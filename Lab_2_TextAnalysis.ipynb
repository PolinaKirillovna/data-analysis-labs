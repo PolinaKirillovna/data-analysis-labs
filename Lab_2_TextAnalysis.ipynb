{
  "cells": [
    {
      "cell_type": "markdown",
      "id": "f2afdd4c",
      "metadata": {
        "id": "f2afdd4c"
      },
      "source": [
        "Выбрать 2 жанра. Для полученных жанров провести все этапы предварительной обработки текста, обучить наивный байесовский классификатор, численно оценить его работу."
      ]
    },
    {
      "cell_type": "code",
      "execution_count": null,
      "id": "2bb7ec8c",
      "metadata": {
        "id": "2bb7ec8c",
        "outputId": "b5b7b856-7112-4f2e-ea01-1823089d03e7"
      },
      "outputs": [
        {
          "name": "stdout",
          "output_type": "stream",
          "text": [
            "ваши жанры R&B и Country\n"
          ]
        }
      ],
      "source": [
        " import random \n",
        " lst = ['Christian', 'Country', 'Pop', 'Rock', 'R&B'] \n",
        " print('ваши жанры', random.choice(lst), 'и', random.choice(lst)) "
      ]
    },
    {
      "cell_type": "markdown",
      "id": "613d1ac5",
      "metadata": {
        "id": "613d1ac5"
      },
      "source": [
        "* Найти по песне каждого из жанров, которые Вам достались, после необходимой обработки их текстов определить жанр обеих песен с помощью обученной в ходе выполнения предыдущего пункта модели."
      ]
    },
    {
      "cell_type": "markdown",
      "id": "e1ec0985",
      "metadata": {
        "id": "e1ec0985"
      },
      "source": [
        "* С помощью набора данных по ссылке аналогичным образом научить модель отличать тексты песен Дэвида Боуи от текстов песен Пола МакКартни https://www.kaggle.com/italomarcelo/dataset-lyrics-music-mini"
      ]
    },
    {
      "cell_type": "markdown",
      "id": "310ea50b",
      "metadata": {
        "id": "310ea50b"
      },
      "source": [
        "# Выполнение лабораторной работы"
      ]
    },
    {
      "cell_type": "markdown",
      "id": "36ad7222",
      "metadata": {
        "id": "36ad7222"
      },
      "source": [
        "Читаем набор данных"
      ]
    },
    {
      "cell_type": "code",
      "execution_count": null,
      "id": "6528e38f",
      "metadata": {
        "id": "6528e38f"
      },
      "outputs": [],
      "source": [
        "import pandas as pd\n",
        "data = pd.read_csv(\"dataset.csv\")"
      ]
    },
    {
      "cell_type": "code",
      "execution_count": null,
      "id": "1a08b66f",
      "metadata": {
        "id": "1a08b66f",
        "outputId": "cd73f412-397c-4d73-d4b4-c62a4f1add29"
      },
      "outputs": [
        {
          "data": {
            "text/html": [
              "<div>\n",
              "<style scoped>\n",
              "    .dataframe tbody tr th:only-of-type {\n",
              "        vertical-align: middle;\n",
              "    }\n",
              "\n",
              "    .dataframe tbody tr th {\n",
              "        vertical-align: top;\n",
              "    }\n",
              "\n",
              "    .dataframe thead th {\n",
              "        text-align: right;\n",
              "    }\n",
              "</style>\n",
              "<table border=\"1\" class=\"dataframe\">\n",
              "  <thead>\n",
              "    <tr style=\"text-align: right;\">\n",
              "      <th></th>\n",
              "      <th>genre</th>\n",
              "      <th>lyrics</th>\n",
              "      <th>SongInfo</th>\n",
              "    </tr>\n",
              "  </thead>\n",
              "  <tbody>\n",
              "    <tr>\n",
              "      <th>0</th>\n",
              "      <td>Christian</td>\n",
              "      <td>Who am I, that the Lord of all the earth Woul...</td>\n",
              "      <td>CASTING CROWNS - WHO AM I LYRICS</td>\n",
              "    </tr>\n",
              "    <tr>\n",
              "      <th>1</th>\n",
              "      <td>Christian</td>\n",
              "      <td>Glory Revealed  By His Wounds He was pierced ...</td>\n",
              "      <td>GLORY REVEALED - BY HIS WOUNDS LYRICS</td>\n",
              "    </tr>\n",
              "    <tr>\n",
              "      <th>2</th>\n",
              "      <td>Christian</td>\n",
              "      <td>Lord of heaven and earth Lord of all creation...</td>\n",
              "      <td>CAEDMON'S CALL - GOD OF WONDERS LYRICS</td>\n",
              "    </tr>\n",
              "    <tr>\n",
              "      <th>3</th>\n",
              "      <td>Christian</td>\n",
              "      <td>I can only imagine what it will be like When ...</td>\n",
              "      <td>MERCYME - I CAN ONLY IMAGINE LYRICS</td>\n",
              "    </tr>\n",
              "    <tr>\n",
              "      <th>4</th>\n",
              "      <td>Christian</td>\n",
              "      <td>I am not skilled to understand What God has w...</td>\n",
              "      <td>AARON SHUST - MY SAVIOR MY GOD LYRICS</td>\n",
              "    </tr>\n",
              "  </tbody>\n",
              "</table>\n",
              "</div>"
            ],
            "text/plain": [
              "       genre                                             lyrics  \\\n",
              "0  Christian   Who am I, that the Lord of all the earth Woul...   \n",
              "1  Christian   Glory Revealed  By His Wounds He was pierced ...   \n",
              "2  Christian   Lord of heaven and earth Lord of all creation...   \n",
              "3  Christian   I can only imagine what it will be like When ...   \n",
              "4  Christian   I am not skilled to understand What God has w...   \n",
              "\n",
              "                                 SongInfo  \n",
              "0        CASTING CROWNS - WHO AM I LYRICS  \n",
              "1   GLORY REVEALED - BY HIS WOUNDS LYRICS  \n",
              "2  CAEDMON'S CALL - GOD OF WONDERS LYRICS  \n",
              "3     MERCYME - I CAN ONLY IMAGINE LYRICS  \n",
              "4   AARON SHUST - MY SAVIOR MY GOD LYRICS  "
            ]
          },
          "execution_count": 4,
          "metadata": {},
          "output_type": "execute_result"
        }
      ],
      "source": [
        "data.head()"
      ]
    },
    {
      "cell_type": "code",
      "execution_count": null,
      "id": "740c0bea",
      "metadata": {
        "id": "740c0bea",
        "outputId": "889b33bb-e050-42e2-87d2-14867039c9d4"
      },
      "outputs": [
        {
          "name": "stdout",
          "output_type": "stream",
          "text": [
            "<class 'pandas.core.frame.DataFrame'>\n",
            "RangeIndex: 558 entries, 0 to 557\n",
            "Data columns (total 3 columns):\n",
            " #   Column    Non-Null Count  Dtype \n",
            "---  ------    --------------  ----- \n",
            " 0   genre     558 non-null    object\n",
            " 1   lyrics    558 non-null    object\n",
            " 2   SongInfo  558 non-null    object\n",
            "dtypes: object(3)\n",
            "memory usage: 13.2+ KB\n"
          ]
        }
      ],
      "source": [
        "data.info()"
      ]
    },
    {
      "cell_type": "code",
      "execution_count": null,
      "id": "57ec0481",
      "metadata": {
        "id": "57ec0481"
      },
      "outputs": [],
      "source": [
        "columns = data[['genre', 'lyrics']]"
      ]
    },
    {
      "cell_type": "code",
      "execution_count": null,
      "id": "8092ed19",
      "metadata": {
        "id": "8092ed19",
        "outputId": "104a9b1a-c08b-4c87-8bdc-5d1278d6bf3f"
      },
      "outputs": [
        {
          "data": {
            "text/html": [
              "<div>\n",
              "<style scoped>\n",
              "    .dataframe tbody tr th:only-of-type {\n",
              "        vertical-align: middle;\n",
              "    }\n",
              "\n",
              "    .dataframe tbody tr th {\n",
              "        vertical-align: top;\n",
              "    }\n",
              "\n",
              "    .dataframe thead th {\n",
              "        text-align: right;\n",
              "    }\n",
              "</style>\n",
              "<table border=\"1\" class=\"dataframe\">\n",
              "  <thead>\n",
              "    <tr style=\"text-align: right;\">\n",
              "      <th></th>\n",
              "      <th>genre</th>\n",
              "      <th>lyrics</th>\n",
              "    </tr>\n",
              "  </thead>\n",
              "  <tbody>\n",
              "    <tr>\n",
              "      <th>0</th>\n",
              "      <td>Christian</td>\n",
              "      <td>Who am I, that the Lord of all the earth Woul...</td>\n",
              "    </tr>\n",
              "    <tr>\n",
              "      <th>1</th>\n",
              "      <td>Christian</td>\n",
              "      <td>Glory Revealed  By His Wounds He was pierced ...</td>\n",
              "    </tr>\n",
              "    <tr>\n",
              "      <th>2</th>\n",
              "      <td>Christian</td>\n",
              "      <td>Lord of heaven and earth Lord of all creation...</td>\n",
              "    </tr>\n",
              "    <tr>\n",
              "      <th>3</th>\n",
              "      <td>Christian</td>\n",
              "      <td>I can only imagine what it will be like When ...</td>\n",
              "    </tr>\n",
              "    <tr>\n",
              "      <th>4</th>\n",
              "      <td>Christian</td>\n",
              "      <td>I am not skilled to understand What God has w...</td>\n",
              "    </tr>\n",
              "    <tr>\n",
              "      <th>...</th>\n",
              "      <td>...</td>\n",
              "      <td>...</td>\n",
              "    </tr>\n",
              "    <tr>\n",
              "      <th>553</th>\n",
              "      <td>R&amp;B</td>\n",
              "      <td>Ha I dont care ha, about your past I just wan...</td>\n",
              "    </tr>\n",
              "    <tr>\n",
              "      <th>554</th>\n",
              "      <td>R&amp;B</td>\n",
              "      <td>Hoverin by my suitcase  Tryin to find a warm ...</td>\n",
              "    </tr>\n",
              "    <tr>\n",
              "      <th>555</th>\n",
              "      <td>R&amp;B</td>\n",
              "      <td>I dont know why I love you like I do  After a...</td>\n",
              "    </tr>\n",
              "    <tr>\n",
              "      <th>556</th>\n",
              "      <td>R&amp;B</td>\n",
              "      <td>C. C. Rider Elvis Presley  Well now see., C. ...</td>\n",
              "    </tr>\n",
              "    <tr>\n",
              "      <th>557</th>\n",
              "      <td>R&amp;B</td>\n",
              "      <td>Cynthia get up and dance to the music!  Get o...</td>\n",
              "    </tr>\n",
              "  </tbody>\n",
              "</table>\n",
              "<p>558 rows × 2 columns</p>\n",
              "</div>"
            ],
            "text/plain": [
              "         genre                                             lyrics\n",
              "0    Christian   Who am I, that the Lord of all the earth Woul...\n",
              "1    Christian   Glory Revealed  By His Wounds He was pierced ...\n",
              "2    Christian   Lord of heaven and earth Lord of all creation...\n",
              "3    Christian   I can only imagine what it will be like When ...\n",
              "4    Christian   I am not skilled to understand What God has w...\n",
              "..         ...                                                ...\n",
              "553        R&B   Ha I dont care ha, about your past I just wan...\n",
              "554        R&B   Hoverin by my suitcase  Tryin to find a warm ...\n",
              "555        R&B   I dont know why I love you like I do  After a...\n",
              "556        R&B   C. C. Rider Elvis Presley  Well now see., C. ...\n",
              "557        R&B   Cynthia get up and dance to the music!  Get o...\n",
              "\n",
              "[558 rows x 2 columns]"
            ]
          },
          "execution_count": 7,
          "metadata": {},
          "output_type": "execute_result"
        }
      ],
      "source": [
        "columns"
      ]
    },
    {
      "cell_type": "markdown",
      "id": "4612bf4f",
      "metadata": {
        "id": "4612bf4f"
      },
      "source": [
        "Посмотрим какие жанры присутствуют в датасете. Для этого выведем уникальные значения столбца:"
      ]
    },
    {
      "cell_type": "code",
      "execution_count": null,
      "id": "f48673e2",
      "metadata": {
        "id": "f48673e2",
        "outputId": "f280b1c2-6666-443d-b675-5a0d8156ab1b"
      },
      "outputs": [
        {
          "data": {
            "text/plain": [
              "array(['Christian', 'Country', 'Hip-Hop', 'Pop', 'Rock', 'R&B'],\n",
              "      dtype=object)"
            ]
          },
          "execution_count": 8,
          "metadata": {},
          "output_type": "execute_result"
        }
      ],
      "source": [
        "\n",
        "columns['genre'].unique()"
      ]
    },
    {
      "cell_type": "markdown",
      "id": "4538ae3d",
      "metadata": {
        "id": "4538ae3d"
      },
      "source": [
        "Посчитаем также сколько песен каждого жанра представлено:"
      ]
    },
    {
      "cell_type": "code",
      "execution_count": null,
      "id": "605410de",
      "metadata": {
        "id": "605410de",
        "outputId": "1b241e5b-07ae-4212-d003-4bde567ff148"
      },
      "outputs": [
        {
          "data": {
            "text/plain": [
              "Pop          100\n",
              "Rock          95\n",
              "Christian     94\n",
              "Hip-Hop       91\n",
              "R&B           91\n",
              "Country       87\n",
              "Name: genre, dtype: int64"
            ]
          },
          "execution_count": 9,
          "metadata": {},
          "output_type": "execute_result"
        }
      ],
      "source": [
        "columns['genre'].value_counts()"
      ]
    },
    {
      "cell_type": "markdown",
      "id": "a4fd543e",
      "metadata": {
        "id": "a4fd543e"
      },
      "source": [
        "Оставляем только 2 жанра, которые планируем отличать друг от друга. R&B и Country"
      ]
    },
    {
      "cell_type": "code",
      "execution_count": null,
      "id": "eca2ad18",
      "metadata": {
        "id": "eca2ad18"
      },
      "outputs": [],
      "source": [
        "columns = columns[(columns.genre == 'Country') | (columns.genre == 'R&B')]"
      ]
    },
    {
      "cell_type": "markdown",
      "id": "72eb6c81",
      "metadata": {
        "id": "72eb6c81"
      },
      "source": [
        "## Предварительная обработка текстовых данных "
      ]
    },
    {
      "cell_type": "markdown",
      "id": "cdf98a57",
      "metadata": {
        "id": "cdf98a57"
      },
      "source": [
        "Для того, чтобы применять текстовые данные для обучения той или иной модели машинного обучения, их нужно привести в подходящий для этого вид. В этом нам помогут следующие шаги предварительной подготовки:"
      ]
    },
    {
      "cell_type": "markdown",
      "id": "86db964d",
      "metadata": {
        "id": "86db964d"
      },
      "source": [
        "### Приведение к нижнему регистру"
      ]
    },
    {
      "cell_type": "markdown",
      "id": "499a5dfa",
      "metadata": {
        "id": "499a5dfa"
      },
      "source": [
        "Так как слова (например) \"Beer\" и \"beer\" будут считаться разными словами из-за разницы в регистре буквы b, а первая буква предложения, как правило, является заглавной, важно привести все слова предложения к нижнему регистру. Таким образом, \"beer\", встретившееся в начале предложения и в его середине, будут распознаны как одно слово."
      ]
    },
    {
      "cell_type": "code",
      "execution_count": null,
      "id": "23c80433",
      "metadata": {
        "id": "23c80433"
      },
      "outputs": [],
      "source": [
        "lowered = columns['lyrics'].str.lower()"
      ]
    },
    {
      "cell_type": "code",
      "execution_count": null,
      "id": "1f85a98e",
      "metadata": {
        "id": "1f85a98e",
        "outputId": "dffd1960-bbb6-4e54-b821-188be8180fbb"
      },
      "outputs": [
        {
          "name": "stderr",
          "output_type": "stream",
          "text": [
            "/var/folders/qy/dbkxn3jn7_j3y6cnv7kkm8ph0000gn/T/ipykernel_4358/2059643840.py:1: SettingWithCopyWarning: \n",
            "A value is trying to be set on a copy of a slice from a DataFrame.\n",
            "Try using .loc[row_indexer,col_indexer] = value instead\n",
            "\n",
            "See the caveats in the documentation: https://pandas.pydata.org/pandas-docs/stable/user_guide/indexing.html#returning-a-view-versus-a-copy\n",
            "  columns['lowered'] = lowered\n"
          ]
        }
      ],
      "source": [
        "columns['lowered'] = lowered"
      ]
    },
    {
      "cell_type": "markdown",
      "id": "8f44118e",
      "metadata": {
        "id": "8f44118e"
      },
      "source": [
        "### Токенизация "
      ]
    },
    {
      "cell_type": "markdown",
      "id": "227b7b70",
      "metadata": {
        "id": "227b7b70"
      },
      "source": [
        "Имеющиеся тексты нужно разбить на отдельные слова. Такой процесс называется ***токенизация***."
      ]
    },
    {
      "cell_type": "code",
      "execution_count": null,
      "id": "24c30dc0",
      "metadata": {
        "id": "24c30dc0",
        "outputId": "a9fee8f0-dc81-4af8-a568-f2558af875e0"
      },
      "outputs": [
        {
          "name": "stderr",
          "output_type": "stream",
          "text": [
            "[nltk_data] Downloading package punkt to /Users/thedpk/nltk_data...\n",
            "[nltk_data]   Package punkt is already up-to-date!\n"
          ]
        },
        {
          "data": {
            "text/plain": [
              "True"
            ]
          },
          "execution_count": 13,
          "metadata": {},
          "output_type": "execute_result"
        }
      ],
      "source": [
        "import nltk\n",
        "from nltk.tokenize import word_tokenize\n",
        "nltk.download('punkt')"
      ]
    },
    {
      "cell_type": "code",
      "execution_count": null,
      "id": "c47079ed",
      "metadata": {
        "id": "c47079ed"
      },
      "outputs": [],
      "source": [
        "tokened = columns.apply(lambda row: nltk.word_tokenize(row['lowered']), axis=1)"
      ]
    },
    {
      "cell_type": "code",
      "execution_count": null,
      "id": "2da5aa93",
      "metadata": {
        "id": "2da5aa93",
        "outputId": "3e0dfb4f-93fc-4bca-8004-a1150d3605e7"
      },
      "outputs": [
        {
          "name": "stderr",
          "output_type": "stream",
          "text": [
            "/var/folders/qy/dbkxn3jn7_j3y6cnv7kkm8ph0000gn/T/ipykernel_4358/3877665526.py:1: SettingWithCopyWarning: \n",
            "A value is trying to be set on a copy of a slice from a DataFrame.\n",
            "Try using .loc[row_indexer,col_indexer] = value instead\n",
            "\n",
            "See the caveats in the documentation: https://pandas.pydata.org/pandas-docs/stable/user_guide/indexing.html#returning-a-view-versus-a-copy\n",
            "  columns['tokened'] = tokened\n"
          ]
        }
      ],
      "source": [
        "columns['tokened'] = tokened"
      ]
    },
    {
      "cell_type": "markdown",
      "id": "6aaa5120",
      "metadata": {
        "id": "6aaa5120"
      },
      "source": [
        "### Удаление стоп слов"
      ]
    },
    {
      "cell_type": "markdown",
      "id": "7248a819",
      "metadata": {
        "id": "7248a819"
      },
      "source": [
        "Стоп-словами называются распространённые слова, не несущие особой смысловой нагрузки, а значит никак не помогающие в последующей задаче классификации. Такие слова мы считаем шумом, и, соответственно, удаляем."
      ]
    },
    {
      "cell_type": "markdown",
      "id": "537cd191",
      "metadata": {
        "id": "537cd191"
      },
      "source": [
        "Существует специальный корпус стоп-слов на разных языках. Так как сейчас мы имеем дело с текстами на английском языке, выведем стоп-слова для английского:"
      ]
    },
    {
      "cell_type": "code",
      "execution_count": null,
      "id": "334fd45d",
      "metadata": {
        "id": "334fd45d",
        "outputId": "c9dd3a74-8f55-4730-c075-6bbd682d2f41"
      },
      "outputs": [
        {
          "name": "stderr",
          "output_type": "stream",
          "text": [
            "[nltk_data] Downloading package stopwords to\n",
            "[nltk_data]     /Users/thedpk/nltk_data...\n"
          ]
        },
        {
          "name": "stdout",
          "output_type": "stream",
          "text": [
            "['i', 'me', 'my', 'myself', 'we', 'our', 'ours', 'ourselves', 'you', \"you're\", \"you've\", \"you'll\", \"you'd\", 'your', 'yours', 'yourself', 'yourselves', 'he', 'him', 'his', 'himself', 'she', \"she's\", 'her', 'hers', 'herself', 'it', \"it's\", 'its', 'itself', 'they', 'them', 'their', 'theirs', 'themselves', 'what', 'which', 'who', 'whom', 'this', 'that', \"that'll\", 'these', 'those', 'am', 'is', 'are', 'was', 'were', 'be', 'been', 'being', 'have', 'has', 'had', 'having', 'do', 'does', 'did', 'doing', 'a', 'an', 'the', 'and', 'but', 'if', 'or', 'because', 'as', 'until', 'while', 'of', 'at', 'by', 'for', 'with', 'about', 'against', 'between', 'into', 'through', 'during', 'before', 'after', 'above', 'below', 'to', 'from', 'up', 'down', 'in', 'out', 'on', 'off', 'over', 'under', 'again', 'further', 'then', 'once', 'here', 'there', 'when', 'where', 'why', 'how', 'all', 'any', 'both', 'each', 'few', 'more', 'most', 'other', 'some', 'such', 'no', 'nor', 'not', 'only', 'own', 'same', 'so', 'than', 'too', 'very', 's', 't', 'can', 'will', 'just', 'don', \"don't\", 'should', \"should've\", 'now', 'd', 'll', 'm', 'o', 're', 've', 'y', 'ain', 'aren', \"aren't\", 'couldn', \"couldn't\", 'didn', \"didn't\", 'doesn', \"doesn't\", 'hadn', \"hadn't\", 'hasn', \"hasn't\", 'haven', \"haven't\", 'isn', \"isn't\", 'ma', 'mightn', \"mightn't\", 'mustn', \"mustn't\", 'needn', \"needn't\", 'shan', \"shan't\", 'shouldn', \"shouldn't\", 'wasn', \"wasn't\", 'weren', \"weren't\", 'won', \"won't\", 'wouldn', \"wouldn't\"]\n"
          ]
        },
        {
          "name": "stderr",
          "output_type": "stream",
          "text": [
            "[nltk_data]   Unzipping corpora/stopwords.zip.\n"
          ]
        }
      ],
      "source": [
        "nltk.download('stopwords')\n",
        "from nltk.corpus import stopwords\n",
        "print(stopwords.words('english'))"
      ]
    },
    {
      "cell_type": "code",
      "execution_count": null,
      "id": "4707c9c4",
      "metadata": {
        "id": "4707c9c4"
      },
      "outputs": [],
      "source": [
        "noise = stopwords.words('english')"
      ]
    },
    {
      "cell_type": "code",
      "execution_count": null,
      "id": "c9b10c70",
      "metadata": {
        "id": "c9b10c70"
      },
      "outputs": [],
      "source": [
        "withoutstop = columns['tokened'].apply(lambda x: [item for item in x if item not in noise])"
      ]
    },
    {
      "cell_type": "code",
      "execution_count": null,
      "id": "cb49559c",
      "metadata": {
        "id": "cb49559c"
      },
      "outputs": [],
      "source": [
        "without_stop = []\n",
        "for a in withoutstop:    \n",
        "    without_stop.append(\", \".join(a))"
      ]
    },
    {
      "cell_type": "code",
      "execution_count": null,
      "id": "eae9ebd9",
      "metadata": {
        "id": "eae9ebd9",
        "outputId": "16cbed5f-d24e-40a7-8bc4-bc179aded1b1"
      },
      "outputs": [
        {
          "name": "stderr",
          "output_type": "stream",
          "text": [
            "/var/folders/qy/dbkxn3jn7_j3y6cnv7kkm8ph0000gn/T/ipykernel_4358/2967229039.py:1: SettingWithCopyWarning: \n",
            "A value is trying to be set on a copy of a slice from a DataFrame.\n",
            "Try using .loc[row_indexer,col_indexer] = value instead\n",
            "\n",
            "See the caveats in the documentation: https://pandas.pydata.org/pandas-docs/stable/user_guide/indexing.html#returning-a-view-versus-a-copy\n",
            "  columns['without_stop'] = without_stop\n"
          ]
        }
      ],
      "source": [
        "columns['without_stop'] = without_stop"
      ]
    },
    {
      "cell_type": "markdown",
      "id": "194af9f0",
      "metadata": {
        "id": "194af9f0"
      },
      "source": [
        "### Лемматизация "
      ]
    },
    {
      "cell_type": "markdown",
      "id": "822fc36c",
      "metadata": {
        "id": "822fc36c"
      },
      "source": [
        "У одного и того же слова бывают разные формы. Например, dances - форма слова dance. Лемматизация - это приведение к ***лемме*** - исходной форме слова. Её также необходимо применить к нашим данным, чтобы разные формы слова не считались за отдельные слова."
      ]
    },
    {
      "cell_type": "markdown",
      "id": "22903def",
      "metadata": {
        "id": "22903def"
      },
      "source": [
        "Существует целый ряд лемматизаторов, которые показывают себя с разной эффективностью на разных языках. Для работы с английским языком эффективен **WordNetLemmatizer**"
      ]
    },
    {
      "cell_type": "code",
      "execution_count": null,
      "id": "99a8a40c",
      "metadata": {
        "id": "99a8a40c",
        "outputId": "c167f958-b835-4838-fda8-02280ba68367"
      },
      "outputs": [
        {
          "name": "stderr",
          "output_type": "stream",
          "text": [
            "[nltk_data] Downloading package omw-1.4 to /Users/thedpk/nltk_data...\n",
            "[nltk_data] Downloading package wordnet to /Users/thedpk/nltk_data...\n",
            "[nltk_data]   Package wordnet is already up-to-date!\n"
          ]
        }
      ],
      "source": [
        "from nltk.stem import WordNetLemmatizer \n",
        "nltk.download('omw-1.4')\n",
        "nltk.download('wordnet')\n",
        "lemmatizer = WordNetLemmatizer()"
      ]
    },
    {
      "cell_type": "code",
      "execution_count": null,
      "id": "41139fd3",
      "metadata": {
        "id": "41139fd3",
        "outputId": "f1549b63-d9fd-4dd8-d8ce-259fb070c6e2"
      },
      "outputs": [
        {
          "name": "stdout",
          "output_type": "stream",
          "text": [
            "dance\n"
          ]
        }
      ],
      "source": [
        "print(lemmatizer.lemmatize(\"dances\"))"
      ]
    },
    {
      "cell_type": "code",
      "execution_count": null,
      "id": "ba264e2a",
      "metadata": {
        "id": "ba264e2a"
      },
      "outputs": [],
      "source": [
        "lemmatized = columns['without_stop'].apply(lambda x: [lemmatizer.lemmatize(x)])"
      ]
    },
    {
      "cell_type": "code",
      "execution_count": null,
      "id": "f56c3eb0",
      "metadata": {
        "id": "f56c3eb0"
      },
      "outputs": [],
      "source": [
        "lemma = []\n",
        "for a in lemmatized:    \n",
        "    lemma.append(\", \".join(a))"
      ]
    },
    {
      "cell_type": "code",
      "execution_count": null,
      "id": "a0accd12",
      "metadata": {
        "id": "a0accd12",
        "outputId": "7a5e4471-c8dc-4938-e889-f879268b40eb"
      },
      "outputs": [
        {
          "name": "stderr",
          "output_type": "stream",
          "text": [
            "/var/folders/qy/dbkxn3jn7_j3y6cnv7kkm8ph0000gn/T/ipykernel_4358/1724481396.py:1: SettingWithCopyWarning: \n",
            "A value is trying to be set on a copy of a slice from a DataFrame.\n",
            "Try using .loc[row_indexer,col_indexer] = value instead\n",
            "\n",
            "See the caveats in the documentation: https://pandas.pydata.org/pandas-docs/stable/user_guide/indexing.html#returning-a-view-versus-a-copy\n",
            "  columns['lemmatized'] = lemma\n"
          ]
        }
      ],
      "source": [
        "columns['lemmatized'] = lemma"
      ]
    },
    {
      "cell_type": "markdown",
      "id": "6544a6c0",
      "metadata": {
        "id": "6544a6c0"
      },
      "source": [
        "Таким образом, на каждом этапе мы добавляли столбец с той или иной модификацией, чтобы получить пригодные для обучения данные. Посмотрим на датафрейм, который получился:"
      ]
    },
    {
      "cell_type": "code",
      "execution_count": null,
      "id": "a27ab43e",
      "metadata": {
        "id": "a27ab43e",
        "outputId": "61ff7096-cbc2-4231-833f-d70ec1364230"
      },
      "outputs": [
        {
          "data": {
            "text/html": [
              "<div>\n",
              "<style scoped>\n",
              "    .dataframe tbody tr th:only-of-type {\n",
              "        vertical-align: middle;\n",
              "    }\n",
              "\n",
              "    .dataframe tbody tr th {\n",
              "        vertical-align: top;\n",
              "    }\n",
              "\n",
              "    .dataframe thead th {\n",
              "        text-align: right;\n",
              "    }\n",
              "</style>\n",
              "<table border=\"1\" class=\"dataframe\">\n",
              "  <thead>\n",
              "    <tr style=\"text-align: right;\">\n",
              "      <th></th>\n",
              "      <th>genre</th>\n",
              "      <th>lyrics</th>\n",
              "      <th>lowered</th>\n",
              "      <th>tokened</th>\n",
              "      <th>without_stop</th>\n",
              "      <th>lemmatized</th>\n",
              "    </tr>\n",
              "  </thead>\n",
              "  <tbody>\n",
              "    <tr>\n",
              "      <th>94</th>\n",
              "      <td>Country</td>\n",
              "      <td>Your cheatin heart will make you weep Youll c...</td>\n",
              "      <td>your cheatin heart will make you weep youll c...</td>\n",
              "      <td>[your, cheatin, heart, will, make, you, weep, ...</td>\n",
              "      <td>cheatin, heart, make, weep, youll, cry, cry, t...</td>\n",
              "      <td>cheatin, heart, make, weep, youll, cry, cry, t...</td>\n",
              "    </tr>\n",
              "    <tr>\n",
              "      <th>95</th>\n",
              "      <td>Country</td>\n",
              "      <td>I was standing by the window On a dark and cl...</td>\n",
              "      <td>i was standing by the window on a dark and cl...</td>\n",
              "      <td>[i, was, standing, by, the, window, on, a, dar...</td>\n",
              "      <td>standing, window, dark, cloudy, day, saw, hear...</td>\n",
              "      <td>standing, window, dark, cloudy, day, saw, hear...</td>\n",
              "    </tr>\n",
              "    <tr>\n",
              "      <th>96</th>\n",
              "      <td>Country</td>\n",
              "      <td>Blue moon of Kentucky keep on shinin Shine on...</td>\n",
              "      <td>blue moon of kentucky keep on shinin shine on...</td>\n",
              "      <td>[blue, moon, of, kentucky, keep, on, shinin, s...</td>\n",
              "      <td>blue, moon, kentucky, keep, shinin, shine, one...</td>\n",
              "      <td>blue, moon, kentucky, keep, shinin, shine, one...</td>\n",
              "    </tr>\n",
              "    <tr>\n",
              "      <th>97</th>\n",
              "      <td>Country</td>\n",
              "      <td>Hear that lonesome whippoorwill He sounds too...</td>\n",
              "      <td>hear that lonesome whippoorwill he sounds too...</td>\n",
              "      <td>[hear, that, lonesome, whippoorwill, he, sound...</td>\n",
              "      <td>hear, lonesome, whippoorwill, sounds, blue, fl...</td>\n",
              "      <td>hear, lonesome, whippoorwill, sounds, blue, fl...</td>\n",
              "    </tr>\n",
              "    <tr>\n",
              "      <th>98</th>\n",
              "      <td>Country</td>\n",
              "      <td>(Hank Cochran)  Make the world go away And ge...</td>\n",
              "      <td>(hank cochran)  make the world go away and ge...</td>\n",
              "      <td>[(, hank, cochran, ), make, the, world, go, aw...</td>\n",
              "      <td>(, hank, cochran, ), make, world, go, away, ge...</td>\n",
              "      <td>(, hank, cochran, ), make, world, go, away, ge...</td>\n",
              "    </tr>\n",
              "    <tr>\n",
              "      <th>...</th>\n",
              "      <td>...</td>\n",
              "      <td>...</td>\n",
              "      <td>...</td>\n",
              "      <td>...</td>\n",
              "      <td>...</td>\n",
              "      <td>...</td>\n",
              "    </tr>\n",
              "    <tr>\n",
              "      <th>553</th>\n",
              "      <td>R&amp;B</td>\n",
              "      <td>Ha I dont care ha, about your past I just wan...</td>\n",
              "      <td>ha i dont care ha, about your past i just wan...</td>\n",
              "      <td>[ha, i, dont, care, ha, ,, about, your, past, ...</td>\n",
              "      <td>ha, dont, care, ha, ,, past, want, ho, ,, love...</td>\n",
              "      <td>ha, dont, care, ha, ,, past, want, ho, ,, love...</td>\n",
              "    </tr>\n",
              "    <tr>\n",
              "      <th>554</th>\n",
              "      <td>R&amp;B</td>\n",
              "      <td>Hoverin by my suitcase  Tryin to find a warm ...</td>\n",
              "      <td>hoverin by my suitcase  tryin to find a warm ...</td>\n",
              "      <td>[hoverin, by, my, suitcase, tryin, to, find, a...</td>\n",
              "      <td>hoverin, suitcase, tryin, find, warm, place, s...</td>\n",
              "      <td>hoverin, suitcase, tryin, find, warm, place, s...</td>\n",
              "    </tr>\n",
              "    <tr>\n",
              "      <th>555</th>\n",
              "      <td>R&amp;B</td>\n",
              "      <td>I dont know why I love you like I do  After a...</td>\n",
              "      <td>i dont know why i love you like i do  after a...</td>\n",
              "      <td>[i, dont, know, why, i, love, you, like, i, do...</td>\n",
              "      <td>dont, know, love, like, changes, put, stole, m...</td>\n",
              "      <td>dont, know, love, like, changes, put, stole, m...</td>\n",
              "    </tr>\n",
              "    <tr>\n",
              "      <th>556</th>\n",
              "      <td>R&amp;B</td>\n",
              "      <td>C. C. Rider Elvis Presley  Well now see., C. ...</td>\n",
              "      <td>c. c. rider elvis presley  well now see., c. ...</td>\n",
              "      <td>[c., c., rider, elvis, presley, well, now, see...</td>\n",
              "      <td>c., c., rider, elvis, presley, well, see., ,, ...</td>\n",
              "      <td>c., c., rider, elvis, presley, well, see., ,, ...</td>\n",
              "    </tr>\n",
              "    <tr>\n",
              "      <th>557</th>\n",
              "      <td>R&amp;B</td>\n",
              "      <td>Cynthia get up and dance to the music!  Get o...</td>\n",
              "      <td>cynthia get up and dance to the music!  get o...</td>\n",
              "      <td>[cynthia, get, up, and, dance, to, the, music,...</td>\n",
              "      <td>cynthia, get, dance, music, !, get, dance, mus...</td>\n",
              "      <td>cynthia, get, dance, music, !, get, dance, mus...</td>\n",
              "    </tr>\n",
              "  </tbody>\n",
              "</table>\n",
              "<p>178 rows × 6 columns</p>\n",
              "</div>"
            ],
            "text/plain": [
              "       genre                                             lyrics  \\\n",
              "94   Country   Your cheatin heart will make you weep Youll c...   \n",
              "95   Country   I was standing by the window On a dark and cl...   \n",
              "96   Country   Blue moon of Kentucky keep on shinin Shine on...   \n",
              "97   Country   Hear that lonesome whippoorwill He sounds too...   \n",
              "98   Country   (Hank Cochran)  Make the world go away And ge...   \n",
              "..       ...                                                ...   \n",
              "553      R&B   Ha I dont care ha, about your past I just wan...   \n",
              "554      R&B   Hoverin by my suitcase  Tryin to find a warm ...   \n",
              "555      R&B   I dont know why I love you like I do  After a...   \n",
              "556      R&B   C. C. Rider Elvis Presley  Well now see., C. ...   \n",
              "557      R&B   Cynthia get up and dance to the music!  Get o...   \n",
              "\n",
              "                                               lowered  \\\n",
              "94    your cheatin heart will make you weep youll c...   \n",
              "95    i was standing by the window on a dark and cl...   \n",
              "96    blue moon of kentucky keep on shinin shine on...   \n",
              "97    hear that lonesome whippoorwill he sounds too...   \n",
              "98    (hank cochran)  make the world go away and ge...   \n",
              "..                                                 ...   \n",
              "553   ha i dont care ha, about your past i just wan...   \n",
              "554   hoverin by my suitcase  tryin to find a warm ...   \n",
              "555   i dont know why i love you like i do  after a...   \n",
              "556   c. c. rider elvis presley  well now see., c. ...   \n",
              "557   cynthia get up and dance to the music!  get o...   \n",
              "\n",
              "                                               tokened  \\\n",
              "94   [your, cheatin, heart, will, make, you, weep, ...   \n",
              "95   [i, was, standing, by, the, window, on, a, dar...   \n",
              "96   [blue, moon, of, kentucky, keep, on, shinin, s...   \n",
              "97   [hear, that, lonesome, whippoorwill, he, sound...   \n",
              "98   [(, hank, cochran, ), make, the, world, go, aw...   \n",
              "..                                                 ...   \n",
              "553  [ha, i, dont, care, ha, ,, about, your, past, ...   \n",
              "554  [hoverin, by, my, suitcase, tryin, to, find, a...   \n",
              "555  [i, dont, know, why, i, love, you, like, i, do...   \n",
              "556  [c., c., rider, elvis, presley, well, now, see...   \n",
              "557  [cynthia, get, up, and, dance, to, the, music,...   \n",
              "\n",
              "                                          without_stop  \\\n",
              "94   cheatin, heart, make, weep, youll, cry, cry, t...   \n",
              "95   standing, window, dark, cloudy, day, saw, hear...   \n",
              "96   blue, moon, kentucky, keep, shinin, shine, one...   \n",
              "97   hear, lonesome, whippoorwill, sounds, blue, fl...   \n",
              "98   (, hank, cochran, ), make, world, go, away, ge...   \n",
              "..                                                 ...   \n",
              "553  ha, dont, care, ha, ,, past, want, ho, ,, love...   \n",
              "554  hoverin, suitcase, tryin, find, warm, place, s...   \n",
              "555  dont, know, love, like, changes, put, stole, m...   \n",
              "556  c., c., rider, elvis, presley, well, see., ,, ...   \n",
              "557  cynthia, get, dance, music, !, get, dance, mus...   \n",
              "\n",
              "                                            lemmatized  \n",
              "94   cheatin, heart, make, weep, youll, cry, cry, t...  \n",
              "95   standing, window, dark, cloudy, day, saw, hear...  \n",
              "96   blue, moon, kentucky, keep, shinin, shine, one...  \n",
              "97   hear, lonesome, whippoorwill, sounds, blue, fl...  \n",
              "98   (, hank, cochran, ), make, world, go, away, ge...  \n",
              "..                                                 ...  \n",
              "553  ha, dont, care, ha, ,, past, want, ho, ,, love...  \n",
              "554  hoverin, suitcase, tryin, find, warm, place, s...  \n",
              "555  dont, know, love, like, changes, put, stole, m...  \n",
              "556  c., c., rider, elvis, presley, well, see., ,, ...  \n",
              "557  cynthia, get, dance, music, !, get, dance, mus...  \n",
              "\n",
              "[178 rows x 6 columns]"
            ]
          },
          "execution_count": 31,
          "metadata": {},
          "output_type": "execute_result"
        }
      ],
      "source": [
        "columns"
      ]
    },
    {
      "cell_type": "markdown",
      "id": "1e61373a",
      "metadata": {
        "id": "1e61373a"
      },
      "source": [
        "### Разделим данные на обучающую и тестовую выборки"
      ]
    },
    {
      "cell_type": "markdown",
      "id": "68a87746",
      "metadata": {
        "id": "68a87746"
      },
      "source": [
        "x_train - тексты, на которых мы обучаем модель. В данном случае мы используем столбец lemmatized, так как он содержит данные, прошедшие все этапы подготовки \n",
        "\n",
        "> \n",
        "\n",
        "\n",
        "\n",
        "y_train - жанры, соответствующие текстам, на которых модель обучается - столбец genre\n",
        "\n",
        "\n",
        "> \n",
        "\n",
        "\n",
        "x_test - точно такие же тексты из набора данных, на которых мы будем проверять, насколько модель научилась предсказывать жанр\n",
        "\n",
        "\n",
        "> \n",
        "\n",
        "\n",
        "\n",
        "y_test - жанры, соответствующие x_test. т.е. мы смотрим, насколько предсказания соответствуют содержимому этой переменной, чтобы оценить качество обучения"
      ]
    },
    {
      "cell_type": "code",
      "execution_count": null,
      "id": "8fbb327e",
      "metadata": {
        "id": "8fbb327e"
      },
      "outputs": [],
      "source": [
        "from sklearn.model_selection import train_test_split \n",
        "x_train, x_test, y_train, y_test = train_test_split(columns.lemmatized, columns.genre, train_size = 0.7)"
      ]
    },
    {
      "cell_type": "code",
      "execution_count": null,
      "id": "f0dc8562",
      "metadata": {
        "id": "f0dc8562",
        "outputId": "c4878b01-15f9-43fd-cf22-c85bbc19023c"
      },
      "outputs": [
        {
          "data": {
            "text/plain": [
              "R&B        91\n",
              "Country    87\n",
              "Name: genre, dtype: int64"
            ]
          },
          "execution_count": 33,
          "metadata": {},
          "output_type": "execute_result"
        }
      ],
      "source": [
        "columns.genre.value_counts()"
      ]
    },
    {
      "cell_type": "markdown",
      "id": "426db911",
      "metadata": {
        "id": "426db911"
      },
      "source": [
        "### Векторизация "
      ]
    },
    {
      "cell_type": "markdown",
      "id": "1ad92d9e",
      "metadata": {
        "id": "1ad92d9e"
      },
      "source": [
        "Следующий этап - ***векторизация***, то есть представление текста в численном виде, чтобы закодированные данные в дальнейшем использовать на модели."
      ]
    },
    {
      "cell_type": "markdown",
      "id": "1d6283d5",
      "metadata": {
        "id": "1d6283d5"
      },
      "source": [
        "Иногда помимо отдельных слов для улучшения качества обучения будет полезно использовать также комбинации из 2-3 слов. Здесь мы используем векторизатор CountVectorizer, который имеет встроенный метод - мешок n-грамм.\n",
        "\n",
        "> n = 1 - униграмма (для обучения используются слова по отдельности)\n",
        "\n",
        "> n = 2 - биграмма (для обучения используются пары слов)\n",
        "\n",
        "> n = 3 - триграмма (для обучения используются тройки слов)\n"
      ]
    },
    {
      "cell_type": "code",
      "execution_count": null,
      "id": "ea3cd906",
      "metadata": {
        "id": "ea3cd906"
      },
      "outputs": [],
      "source": [
        "from sklearn.feature_extraction.text import CountVectorizer"
      ]
    },
    {
      "cell_type": "markdown",
      "id": "533bac21",
      "metadata": {
        "id": "533bac21"
      },
      "source": [
        "Задаём для векторизатора ngram_range=(1, 3), то есть используем все варианты n от 1 до 3 и прибегаем как к униграммам, так и к биграммам и триграммам:"
      ]
    },
    {
      "cell_type": "code",
      "execution_count": null,
      "id": "1110b358",
      "metadata": {
        "id": "1110b358"
      },
      "outputs": [],
      "source": [
        "vectorizer = CountVectorizer(ngram_range=(1, 3))\n",
        "vectorized_x_train = vectorizer.fit_transform(x_train)"
      ]
    },
    {
      "cell_type": "markdown",
      "id": "fd5915ff",
      "metadata": {
        "id": "fd5915ff"
      },
      "source": [
        "### Классификация "
      ]
    },
    {
      "cell_type": "markdown",
      "id": "4cd67a32",
      "metadata": {
        "id": "4cd67a32"
      },
      "source": [
        "Для задачи классификации используем Наивный Байесовский Классификатор - простой вероятностный классификатор, основанный на применении теоремы Байеса со строгими предположениями о независимости."
      ]
    },
    {
      "cell_type": "code",
      "execution_count": null,
      "id": "2a89d782",
      "metadata": {
        "id": "2a89d782"
      },
      "outputs": [],
      "source": [
        "#импортируем байесовский классификатор\n",
        "from sklearn.naive_bayes import MultinomialNB "
      ]
    },
    {
      "cell_type": "code",
      "execution_count": null,
      "id": "9e1f9dae",
      "metadata": {
        "id": "9e1f9dae",
        "outputId": "5df2366d-f0c1-4cf2-d734-a7c3f72efee6"
      },
      "outputs": [
        {
          "data": {
            "text/html": [
              "<style>#sk-container-id-1 {color: black;background-color: white;}#sk-container-id-1 pre{padding: 0;}#sk-container-id-1 div.sk-toggleable {background-color: white;}#sk-container-id-1 label.sk-toggleable__label {cursor: pointer;display: block;width: 100%;margin-bottom: 0;padding: 0.3em;box-sizing: border-box;text-align: center;}#sk-container-id-1 label.sk-toggleable__label-arrow:before {content: \"▸\";float: left;margin-right: 0.25em;color: #696969;}#sk-container-id-1 label.sk-toggleable__label-arrow:hover:before {color: black;}#sk-container-id-1 div.sk-estimator:hover label.sk-toggleable__label-arrow:before {color: black;}#sk-container-id-1 div.sk-toggleable__content {max-height: 0;max-width: 0;overflow: hidden;text-align: left;background-color: #f0f8ff;}#sk-container-id-1 div.sk-toggleable__content pre {margin: 0.2em;color: black;border-radius: 0.25em;background-color: #f0f8ff;}#sk-container-id-1 input.sk-toggleable__control:checked~div.sk-toggleable__content {max-height: 200px;max-width: 100%;overflow: auto;}#sk-container-id-1 input.sk-toggleable__control:checked~label.sk-toggleable__label-arrow:before {content: \"▾\";}#sk-container-id-1 div.sk-estimator input.sk-toggleable__control:checked~label.sk-toggleable__label {background-color: #d4ebff;}#sk-container-id-1 div.sk-label input.sk-toggleable__control:checked~label.sk-toggleable__label {background-color: #d4ebff;}#sk-container-id-1 input.sk-hidden--visually {border: 0;clip: rect(1px 1px 1px 1px);clip: rect(1px, 1px, 1px, 1px);height: 1px;margin: -1px;overflow: hidden;padding: 0;position: absolute;width: 1px;}#sk-container-id-1 div.sk-estimator {font-family: monospace;background-color: #f0f8ff;border: 1px dotted black;border-radius: 0.25em;box-sizing: border-box;margin-bottom: 0.5em;}#sk-container-id-1 div.sk-estimator:hover {background-color: #d4ebff;}#sk-container-id-1 div.sk-parallel-item::after {content: \"\";width: 100%;border-bottom: 1px solid gray;flex-grow: 1;}#sk-container-id-1 div.sk-label:hover label.sk-toggleable__label {background-color: #d4ebff;}#sk-container-id-1 div.sk-serial::before {content: \"\";position: absolute;border-left: 1px solid gray;box-sizing: border-box;top: 0;bottom: 0;left: 50%;z-index: 0;}#sk-container-id-1 div.sk-serial {display: flex;flex-direction: column;align-items: center;background-color: white;padding-right: 0.2em;padding-left: 0.2em;position: relative;}#sk-container-id-1 div.sk-item {position: relative;z-index: 1;}#sk-container-id-1 div.sk-parallel {display: flex;align-items: stretch;justify-content: center;background-color: white;position: relative;}#sk-container-id-1 div.sk-item::before, #sk-container-id-1 div.sk-parallel-item::before {content: \"\";position: absolute;border-left: 1px solid gray;box-sizing: border-box;top: 0;bottom: 0;left: 50%;z-index: -1;}#sk-container-id-1 div.sk-parallel-item {display: flex;flex-direction: column;z-index: 1;position: relative;background-color: white;}#sk-container-id-1 div.sk-parallel-item:first-child::after {align-self: flex-end;width: 50%;}#sk-container-id-1 div.sk-parallel-item:last-child::after {align-self: flex-start;width: 50%;}#sk-container-id-1 div.sk-parallel-item:only-child::after {width: 0;}#sk-container-id-1 div.sk-dashed-wrapped {border: 1px dashed gray;margin: 0 0.4em 0.5em 0.4em;box-sizing: border-box;padding-bottom: 0.4em;background-color: white;}#sk-container-id-1 div.sk-label label {font-family: monospace;font-weight: bold;display: inline-block;line-height: 1.2em;}#sk-container-id-1 div.sk-label-container {text-align: center;}#sk-container-id-1 div.sk-container {/* jupyter's `normalize.less` sets `[hidden] { display: none; }` but bootstrap.min.css set `[hidden] { display: none !important; }` so we also need the `!important` here to be able to override the default hidden behavior on the sphinx rendered scikit-learn.org. See: https://github.com/scikit-learn/scikit-learn/issues/21755 */display: inline-block !important;position: relative;}#sk-container-id-1 div.sk-text-repr-fallback {display: none;}</style><div id=\"sk-container-id-1\" class=\"sk-top-container\"><div class=\"sk-text-repr-fallback\"><pre>MultinomialNB()</pre><b>In a Jupyter environment, please rerun this cell to show the HTML representation or trust the notebook. <br />On GitHub, the HTML representation is unable to render, please try loading this page with nbviewer.org.</b></div><div class=\"sk-container\" hidden><div class=\"sk-item\"><div class=\"sk-estimator sk-toggleable\"><input class=\"sk-toggleable__control sk-hidden--visually\" id=\"sk-estimator-id-1\" type=\"checkbox\" checked><label for=\"sk-estimator-id-1\" class=\"sk-toggleable__label sk-toggleable__label-arrow\">MultinomialNB</label><div class=\"sk-toggleable__content\"><pre>MultinomialNB()</pre></div></div></div></div></div>"
            ],
            "text/plain": [
              "MultinomialNB()"
            ]
          },
          "execution_count": 37,
          "metadata": {},
          "output_type": "execute_result"
        }
      ],
      "source": [
        "clf = MultinomialNB()\n",
        "clf.fit(vectorized_x_train, y_train)"
      ]
    },
    {
      "cell_type": "code",
      "execution_count": null,
      "id": "e559b95d",
      "metadata": {
        "id": "e559b95d"
      },
      "outputs": [],
      "source": [
        "# тестовую выборку просто векторизировали\n",
        "vectorized_x_test = vectorizer.transform(x_test)"
      ]
    },
    {
      "cell_type": "markdown",
      "id": "1c73fe84",
      "metadata": {
        "id": "1c73fe84"
      },
      "source": [
        "Посмотрим предсказания для тестовой выборки"
      ]
    },
    {
      "cell_type": "code",
      "execution_count": null,
      "id": "aecdf038",
      "metadata": {
        "id": "aecdf038",
        "outputId": "22e21af6-4d48-49e2-c849-9f98794adcb2"
      },
      "outputs": [
        {
          "data": {
            "text/plain": [
              "array(['R&B', 'Country', 'R&B', 'R&B', 'Country', 'Country', 'R&B',\n",
              "       'Country', 'R&B', 'Country', 'R&B', 'Country', 'R&B', 'Country',\n",
              "       'Country', 'Country', 'Country', 'R&B', 'R&B', 'R&B', 'R&B', 'R&B',\n",
              "       'Country', 'Country', 'Country', 'Country', 'Country', 'R&B',\n",
              "       'Country', 'Country', 'Country', 'R&B', 'R&B', 'Country',\n",
              "       'Country', 'Country', 'R&B', 'Country', 'R&B', 'R&B', 'R&B',\n",
              "       'Country', 'R&B', 'R&B', 'R&B', 'R&B', 'Country', 'R&B', 'R&B',\n",
              "       'R&B', 'R&B', 'R&B', 'R&B', 'Country'], dtype='<U7')"
            ]
          },
          "execution_count": 40,
          "metadata": {},
          "output_type": "execute_result"
        }
      ],
      "source": [
        "clf.predict(vectorized_x_test)"
      ]
    },
    {
      "cell_type": "markdown",
      "id": "a7cbbc67",
      "metadata": {
        "id": "a7cbbc67"
      },
      "source": [
        "Получим оценки классификации:"
      ]
    },
    {
      "cell_type": "code",
      "execution_count": null,
      "id": "8942d951",
      "metadata": {
        "id": "8942d951",
        "outputId": "eece7bf2-d554-4971-dd22-21e5f906d961"
      },
      "outputs": [
        {
          "name": "stdout",
          "output_type": "stream",
          "text": [
            "              precision    recall  f1-score   support\n",
            "\n",
            "     Country       0.72      0.75      0.73        24\n",
            "         R&B       0.79      0.77      0.78        30\n",
            "\n",
            "    accuracy                           0.76        54\n",
            "   macro avg       0.76      0.76      0.76        54\n",
            "weighted avg       0.76      0.76      0.76        54\n",
            "\n"
          ]
        }
      ],
      "source": [
        "from sklearn.metrics import * \n",
        "pred = clf.predict(vectorized_x_test)\n",
        "print(classification_report(y_test, pred))"
      ]
    },
    {
      "cell_type": "markdown",
      "id": "b0cef70e",
      "metadata": {
        "id": "b0cef70e"
      },
      "source": [
        "## Вторая часть задания"
      ]
    },
    {
      "cell_type": "markdown",
      "id": "f80e6a39",
      "metadata": {
        "id": "f80e6a39"
      },
      "source": [
        "Мы загугли по песне каждого из жарнов, привели их к допустимому виду для дальнейшей обработки и анализа."
      ]
    },
    {
      "cell_type": "code",
      "execution_count": null,
      "id": "4b5156a3",
      "metadata": {
        "id": "4b5156a3"
      },
      "outputs": [],
      "source": [
        "lr = pd.read_csv(\"Книга1.csv\")"
      ]
    },
    {
      "cell_type": "code",
      "execution_count": null,
      "id": "efeeb1e7",
      "metadata": {
        "id": "efeeb1e7",
        "outputId": "fb6b420c-d984-4d88-aa05-b0e5b751479b"
      },
      "outputs": [
        {
          "data": {
            "text/html": [
              "<div>\n",
              "<style scoped>\n",
              "    .dataframe tbody tr th:only-of-type {\n",
              "        vertical-align: middle;\n",
              "    }\n",
              "\n",
              "    .dataframe tbody tr th {\n",
              "        vertical-align: top;\n",
              "    }\n",
              "\n",
              "    .dataframe thead th {\n",
              "        text-align: right;\n",
              "    }\n",
              "</style>\n",
              "<table border=\"1\" class=\"dataframe\">\n",
              "  <thead>\n",
              "    <tr style=\"text-align: right;\">\n",
              "      <th></th>\n",
              "      <th>lyrics</th>\n",
              "    </tr>\n",
              "  </thead>\n",
              "  <tbody>\n",
              "    <tr>\n",
              "      <th>0</th>\n",
              "      <td>Darlin' I, I can't explain\\nWhere did we lose ...</td>\n",
              "    </tr>\n",
              "    <tr>\n",
              "      <th>1</th>\n",
              "      <td>I remember it all very well, lookin' back\\nIt ...</td>\n",
              "    </tr>\n",
              "  </tbody>\n",
              "</table>\n",
              "</div>"
            ],
            "text/plain": [
              "                                              lyrics\n",
              "0  Darlin' I, I can't explain\\nWhere did we lose ...\n",
              "1  I remember it all very well, lookin' back\\nIt ..."
            ]
          },
          "execution_count": 69,
          "metadata": {},
          "output_type": "execute_result"
        }
      ],
      "source": [
        "lr.head()"
      ]
    },
    {
      "cell_type": "code",
      "execution_count": null,
      "id": "30062ac7",
      "metadata": {
        "id": "30062ac7"
      },
      "outputs": [],
      "source": [
        "columns = lr[['lyrics']]"
      ]
    },
    {
      "cell_type": "markdown",
      "id": "7d0a2761",
      "metadata": {
        "id": "7d0a2761"
      },
      "source": [
        "Далее обработаем текст этих песен точно так же, как мы и делали это в первой части задания. "
      ]
    },
    {
      "cell_type": "code",
      "execution_count": null,
      "id": "60a83e18",
      "metadata": {
        "id": "60a83e18"
      },
      "outputs": [],
      "source": [
        "lowered = columns['lyrics'].str.lower()"
      ]
    },
    {
      "cell_type": "code",
      "execution_count": null,
      "id": "ed6c6ea1",
      "metadata": {
        "id": "ed6c6ea1"
      },
      "outputs": [],
      "source": [
        "columns['lowered'] = lowered"
      ]
    },
    {
      "cell_type": "code",
      "execution_count": null,
      "id": "eb99230d",
      "metadata": {
        "id": "eb99230d",
        "outputId": "0019d256-1811-43f7-aaa5-70096475f9a5"
      },
      "outputs": [
        {
          "name": "stderr",
          "output_type": "stream",
          "text": [
            "[nltk_data] Downloading package punkt to /Users/thedpk/nltk_data...\n",
            "[nltk_data]   Package punkt is already up-to-date!\n"
          ]
        },
        {
          "data": {
            "text/plain": [
              "True"
            ]
          },
          "execution_count": 48,
          "metadata": {},
          "output_type": "execute_result"
        }
      ],
      "source": [
        "from nltk.tokenize import word_tokenize\n",
        "nltk.download('punkt')"
      ]
    },
    {
      "cell_type": "code",
      "execution_count": null,
      "id": "e34e7264",
      "metadata": {
        "id": "e34e7264"
      },
      "outputs": [],
      "source": [
        "tokened = columns.apply(lambda row: nltk.word_tokenize(row['lowered']), axis=1)"
      ]
    },
    {
      "cell_type": "code",
      "execution_count": null,
      "id": "75d63033",
      "metadata": {
        "id": "75d63033"
      },
      "outputs": [],
      "source": [
        "columns['tokened'] = tokened"
      ]
    },
    {
      "cell_type": "code",
      "execution_count": null,
      "id": "7fc8f1f7",
      "metadata": {
        "id": "7fc8f1f7",
        "outputId": "21326679-6419-4ea7-8170-796feb613fcc"
      },
      "outputs": [
        {
          "name": "stdout",
          "output_type": "stream",
          "text": [
            "['i', 'me', 'my', 'myself', 'we', 'our', 'ours', 'ourselves', 'you', \"you're\", \"you've\", \"you'll\", \"you'd\", 'your', 'yours', 'yourself', 'yourselves', 'he', 'him', 'his', 'himself', 'she', \"she's\", 'her', 'hers', 'herself', 'it', \"it's\", 'its', 'itself', 'they', 'them', 'their', 'theirs', 'themselves', 'what', 'which', 'who', 'whom', 'this', 'that', \"that'll\", 'these', 'those', 'am', 'is', 'are', 'was', 'were', 'be', 'been', 'being', 'have', 'has', 'had', 'having', 'do', 'does', 'did', 'doing', 'a', 'an', 'the', 'and', 'but', 'if', 'or', 'because', 'as', 'until', 'while', 'of', 'at', 'by', 'for', 'with', 'about', 'against', 'between', 'into', 'through', 'during', 'before', 'after', 'above', 'below', 'to', 'from', 'up', 'down', 'in', 'out', 'on', 'off', 'over', 'under', 'again', 'further', 'then', 'once', 'here', 'there', 'when', 'where', 'why', 'how', 'all', 'any', 'both', 'each', 'few', 'more', 'most', 'other', 'some', 'such', 'no', 'nor', 'not', 'only', 'own', 'same', 'so', 'than', 'too', 'very', 's', 't', 'can', 'will', 'just', 'don', \"don't\", 'should', \"should've\", 'now', 'd', 'll', 'm', 'o', 're', 've', 'y', 'ain', 'aren', \"aren't\", 'couldn', \"couldn't\", 'didn', \"didn't\", 'doesn', \"doesn't\", 'hadn', \"hadn't\", 'hasn', \"hasn't\", 'haven', \"haven't\", 'isn', \"isn't\", 'ma', 'mightn', \"mightn't\", 'mustn', \"mustn't\", 'needn', \"needn't\", 'shan', \"shan't\", 'shouldn', \"shouldn't\", 'wasn', \"wasn't\", 'weren', \"weren't\", 'won', \"won't\", 'wouldn', \"wouldn't\"]\n"
          ]
        },
        {
          "name": "stderr",
          "output_type": "stream",
          "text": [
            "[nltk_data] Downloading package stopwords to\n",
            "[nltk_data]     /Users/thedpk/nltk_data...\n",
            "[nltk_data]   Package stopwords is already up-to-date!\n"
          ]
        }
      ],
      "source": [
        "nltk.download('stopwords')\n",
        "from nltk.corpus import stopwords\n",
        "print(stopwords.words('english'))"
      ]
    },
    {
      "cell_type": "code",
      "execution_count": null,
      "id": "d19b21be",
      "metadata": {
        "id": "d19b21be"
      },
      "outputs": [],
      "source": [
        "noise = stopwords.words('english')"
      ]
    },
    {
      "cell_type": "code",
      "execution_count": null,
      "id": "a1fe17b1",
      "metadata": {
        "id": "a1fe17b1"
      },
      "outputs": [],
      "source": [
        "withoutstop = columns['tokened'].apply(lambda x: [item for item in x if item not in noise])"
      ]
    },
    {
      "cell_type": "code",
      "execution_count": null,
      "id": "563ddb4d",
      "metadata": {
        "id": "563ddb4d"
      },
      "outputs": [],
      "source": [
        "without_stop = []\n",
        "for a in withoutstop:    \n",
        "    without_stop.append(\", \".join(a))"
      ]
    },
    {
      "cell_type": "code",
      "execution_count": null,
      "id": "92cdb5ec",
      "metadata": {
        "id": "92cdb5ec"
      },
      "outputs": [],
      "source": [
        "columns['without_stop'] = without_stop"
      ]
    },
    {
      "cell_type": "code",
      "execution_count": null,
      "id": "4201f7fd",
      "metadata": {
        "id": "4201f7fd",
        "outputId": "2ee06c54-7ef3-4637-b05b-ebc08fda1d33"
      },
      "outputs": [
        {
          "name": "stderr",
          "output_type": "stream",
          "text": [
            "[nltk_data] Downloading package wordnet to /Users/thedpk/nltk_data...\n",
            "[nltk_data]   Package wordnet is already up-to-date!\n"
          ]
        }
      ],
      "source": [
        "from nltk.stem import WordNetLemmatizer \n",
        "nltk.download('wordnet')\n",
        "lemmatizer = WordNetLemmatizer()"
      ]
    },
    {
      "cell_type": "code",
      "execution_count": null,
      "id": "46f61a50",
      "metadata": {
        "id": "46f61a50",
        "outputId": "55177fdb-97fc-4bf6-fcd3-710a2b515187"
      },
      "outputs": [
        {
          "name": "stdout",
          "output_type": "stream",
          "text": [
            "dance\n"
          ]
        }
      ],
      "source": [
        "print(lemmatizer.lemmatize(\"dances\"))"
      ]
    },
    {
      "cell_type": "code",
      "execution_count": null,
      "id": "62a7bc2c",
      "metadata": {
        "id": "62a7bc2c"
      },
      "outputs": [],
      "source": [
        "lemmatized = columns['without_stop'].apply(lambda x: [lemmatizer.lemmatize(x)])"
      ]
    },
    {
      "cell_type": "code",
      "execution_count": null,
      "id": "9fa0d0ab",
      "metadata": {
        "id": "9fa0d0ab"
      },
      "outputs": [],
      "source": [
        "lemma = []\n",
        "for a in lemmatized:    \n",
        "    lemma.append(\", \".join(a))"
      ]
    },
    {
      "cell_type": "code",
      "execution_count": null,
      "id": "e6336759",
      "metadata": {
        "id": "e6336759",
        "outputId": "c2bde87a-d268-41dd-ff4a-b7cf366aaced"
      },
      "outputs": [
        {
          "data": {
            "text/html": [
              "<div>\n",
              "<style scoped>\n",
              "    .dataframe tbody tr th:only-of-type {\n",
              "        vertical-align: middle;\n",
              "    }\n",
              "\n",
              "    .dataframe tbody tr th {\n",
              "        vertical-align: top;\n",
              "    }\n",
              "\n",
              "    .dataframe thead th {\n",
              "        text-align: right;\n",
              "    }\n",
              "</style>\n",
              "<table border=\"1\" class=\"dataframe\">\n",
              "  <thead>\n",
              "    <tr style=\"text-align: right;\">\n",
              "      <th></th>\n",
              "      <th>lyrics</th>\n",
              "      <th>lowered</th>\n",
              "      <th>tokened</th>\n",
              "      <th>without_stop</th>\n",
              "    </tr>\n",
              "  </thead>\n",
              "  <tbody>\n",
              "    <tr>\n",
              "      <th>0</th>\n",
              "      <td>Darlin' I, I can't explain\\nWhere did we lose ...</td>\n",
              "      <td>darlin' i, i can't explain\\nwhere did we lose ...</td>\n",
              "      <td>[darlin, ', i, ,, i, ca, n't, explain, where, ...</td>\n",
              "      <td>darlin, ', ,, ca, n't, explain, lose, way, ?, ...</td>\n",
              "    </tr>\n",
              "    <tr>\n",
              "      <th>1</th>\n",
              "      <td>I remember it all very well, lookin' back\\nIt ...</td>\n",
              "      <td>i remember it all very well, lookin' back\\nit ...</td>\n",
              "      <td>[i, remember, it, all, very, well, ,, lookin, ...</td>\n",
              "      <td>remember, well, ,, lookin, ', back, summer, tu...</td>\n",
              "    </tr>\n",
              "  </tbody>\n",
              "</table>\n",
              "</div>"
            ],
            "text/plain": [
              "                                              lyrics  \\\n",
              "0  Darlin' I, I can't explain\\nWhere did we lose ...   \n",
              "1  I remember it all very well, lookin' back\\nIt ...   \n",
              "\n",
              "                                             lowered  \\\n",
              "0  darlin' i, i can't explain\\nwhere did we lose ...   \n",
              "1  i remember it all very well, lookin' back\\nit ...   \n",
              "\n",
              "                                             tokened  \\\n",
              "0  [darlin, ', i, ,, i, ca, n't, explain, where, ...   \n",
              "1  [i, remember, it, all, very, well, ,, lookin, ...   \n",
              "\n",
              "                                        without_stop  \n",
              "0  darlin, ', ,, ca, n't, explain, lose, way, ?, ...  \n",
              "1  remember, well, ,, lookin, ', back, summer, tu...  "
            ]
          },
          "execution_count": 60,
          "metadata": {},
          "output_type": "execute_result"
        }
      ],
      "source": [
        "columns"
      ]
    },
    {
      "cell_type": "code",
      "execution_count": null,
      "id": "4370a06f",
      "metadata": {
        "id": "4370a06f"
      },
      "outputs": [],
      "source": [
        "columns['lemmatized'] = lemma"
      ]
    },
    {
      "cell_type": "code",
      "execution_count": null,
      "id": "d406005e",
      "metadata": {
        "id": "d406005e",
        "outputId": "b4277385-df41-4e5e-be87-c47491464679"
      },
      "outputs": [
        {
          "data": {
            "text/html": [
              "<div>\n",
              "<style scoped>\n",
              "    .dataframe tbody tr th:only-of-type {\n",
              "        vertical-align: middle;\n",
              "    }\n",
              "\n",
              "    .dataframe tbody tr th {\n",
              "        vertical-align: top;\n",
              "    }\n",
              "\n",
              "    .dataframe thead th {\n",
              "        text-align: right;\n",
              "    }\n",
              "</style>\n",
              "<table border=\"1\" class=\"dataframe\">\n",
              "  <thead>\n",
              "    <tr style=\"text-align: right;\">\n",
              "      <th></th>\n",
              "      <th>lyrics</th>\n",
              "      <th>lowered</th>\n",
              "      <th>tokened</th>\n",
              "      <th>without_stop</th>\n",
              "      <th>lemmatized</th>\n",
              "    </tr>\n",
              "  </thead>\n",
              "  <tbody>\n",
              "    <tr>\n",
              "      <th>0</th>\n",
              "      <td>Darlin' I, I can't explain\\nWhere did we lose ...</td>\n",
              "      <td>darlin' i, i can't explain\\nwhere did we lose ...</td>\n",
              "      <td>[darlin, ', i, ,, i, ca, n't, explain, where, ...</td>\n",
              "      <td>darlin, ', ,, ca, n't, explain, lose, way, ?, ...</td>\n",
              "      <td>darlin, ', ,, ca, n't, explain, lose, way, ?, ...</td>\n",
              "    </tr>\n",
              "    <tr>\n",
              "      <th>1</th>\n",
              "      <td>I remember it all very well, lookin' back\\nIt ...</td>\n",
              "      <td>i remember it all very well, lookin' back\\nit ...</td>\n",
              "      <td>[i, remember, it, all, very, well, ,, lookin, ...</td>\n",
              "      <td>remember, well, ,, lookin, ', back, summer, tu...</td>\n",
              "      <td>remember, well, ,, lookin, ', back, summer, tu...</td>\n",
              "    </tr>\n",
              "  </tbody>\n",
              "</table>\n",
              "</div>"
            ],
            "text/plain": [
              "                                              lyrics  \\\n",
              "0  Darlin' I, I can't explain\\nWhere did we lose ...   \n",
              "1  I remember it all very well, lookin' back\\nIt ...   \n",
              "\n",
              "                                             lowered  \\\n",
              "0  darlin' i, i can't explain\\nwhere did we lose ...   \n",
              "1  i remember it all very well, lookin' back\\nit ...   \n",
              "\n",
              "                                             tokened  \\\n",
              "0  [darlin, ', i, ,, i, ca, n't, explain, where, ...   \n",
              "1  [i, remember, it, all, very, well, ,, lookin, ...   \n",
              "\n",
              "                                        without_stop  \\\n",
              "0  darlin, ', ,, ca, n't, explain, lose, way, ?, ...   \n",
              "1  remember, well, ,, lookin, ', back, summer, tu...   \n",
              "\n",
              "                                          lemmatized  \n",
              "0  darlin, ', ,, ca, n't, explain, lose, way, ?, ...  \n",
              "1  remember, well, ,, lookin, ', back, summer, tu...  "
            ]
          },
          "execution_count": 62,
          "metadata": {},
          "output_type": "execute_result"
        }
      ],
      "source": [
        "columns\n"
      ]
    },
    {
      "cell_type": "markdown",
      "id": "8ca6ac18",
      "metadata": {
        "id": "8ca6ac18"
      },
      "source": [
        "После обработки текста, зададим его как тестовый набор данных."
      ]
    },
    {
      "cell_type": "code",
      "execution_count": null,
      "id": "2e74b8f4",
      "metadata": {
        "id": "2e74b8f4"
      },
      "outputs": [],
      "source": [
        "vectorized_data = vectorizer.transform(columns.lemmatized)"
      ]
    },
    {
      "cell_type": "markdown",
      "id": "6a44d41c",
      "metadata": {
        "id": "6a44d41c"
      },
      "source": [
        "Проверим, какое предсказание выдаст нам наша обученная модель:"
      ]
    },
    {
      "cell_type": "code",
      "execution_count": null,
      "id": "7ff2a09f",
      "metadata": {
        "id": "7ff2a09f",
        "outputId": "bad02059-1133-42bb-f397-3381e63b4c93"
      },
      "outputs": [
        {
          "data": {
            "text/plain": [
              "array(['R&B', 'R&B'], dtype='<U7')"
            ]
          },
          "execution_count": 64,
          "metadata": {},
          "output_type": "execute_result"
        }
      ],
      "source": [
        "clf.predict(vectorized_data)"
      ]
    },
    {
      "cell_type": "markdown",
      "id": "634d5dbf",
      "metadata": {
        "id": "634d5dbf"
      },
      "source": [
        "Вторая песня пренадлежала жанру Country. \n"
      ]
    },
    {
      "cell_type": "markdown",
      "id": "06eefbbe",
      "metadata": {
        "id": "06eefbbe"
      },
      "source": [
        "### Третья часть задания"
      ]
    },
    {
      "cell_type": "code",
      "execution_count": null,
      "id": "402fe785",
      "metadata": {
        "id": "402fe785"
      },
      "outputs": [],
      "source": [
        "l_data = pd.read_csv(\"dataset-lyrics-musics-mini.csv\")"
      ]
    },
    {
      "cell_type": "code",
      "execution_count": null,
      "id": "7f41f27b",
      "metadata": {
        "scrolled": true,
        "id": "7f41f27b",
        "outputId": "d6962b37-cce5-4c63-efc0-26f66f4e9e06"
      },
      "outputs": [
        {
          "data": {
            "text/html": [
              "<div>\n",
              "<style scoped>\n",
              "    .dataframe tbody tr th:only-of-type {\n",
              "        vertical-align: middle;\n",
              "    }\n",
              "\n",
              "    .dataframe tbody tr th {\n",
              "        vertical-align: top;\n",
              "    }\n",
              "\n",
              "    .dataframe thead th {\n",
              "        text-align: right;\n",
              "    }\n",
              "</style>\n",
              "<table border=\"1\" class=\"dataframe\">\n",
              "  <thead>\n",
              "    <tr style=\"text-align: right;\">\n",
              "      <th></th>\n",
              "      <th>cantorId</th>\n",
              "      <th>cantorNome</th>\n",
              "      <th>musicaNome</th>\n",
              "      <th>letra</th>\n",
              "    </tr>\n",
              "  </thead>\n",
              "  <tbody>\n",
              "    <tr>\n",
              "      <th>0</th>\n",
              "      <td>0</td>\n",
              "      <td>david-bowie</td>\n",
              "      <td>Heroes</td>\n",
              "      <td>I, I will be king. And you, you will be queen....</td>\n",
              "    </tr>\n",
              "    <tr>\n",
              "      <th>1</th>\n",
              "      <td>0</td>\n",
              "      <td>david-bowie</td>\n",
              "      <td>Starman</td>\n",
              "      <td>Didn't know what time it was,. The lights were...</td>\n",
              "    </tr>\n",
              "    <tr>\n",
              "      <th>2</th>\n",
              "      <td>0</td>\n",
              "      <td>david-bowie</td>\n",
              "      <td>Space Oddity</td>\n",
              "      <td>Ground control to Major Tom. Ground control to...</td>\n",
              "    </tr>\n",
              "    <tr>\n",
              "      <th>3</th>\n",
              "      <td>0</td>\n",
              "      <td>david-bowie</td>\n",
              "      <td>Life On Mars?</td>\n",
              "      <td>It's a god-awful small affair. To the girl wit...</td>\n",
              "    </tr>\n",
              "    <tr>\n",
              "      <th>4</th>\n",
              "      <td>0</td>\n",
              "      <td>david-bowie</td>\n",
              "      <td>Modern Love</td>\n",
              "      <td>I know when to go out. And when to stay in. Ge...</td>\n",
              "    </tr>\n",
              "  </tbody>\n",
              "</table>\n",
              "</div>"
            ],
            "text/plain": [
              "   cantorId   cantorNome     musicaNome  \\\n",
              "0         0  david-bowie         Heroes   \n",
              "1         0  david-bowie        Starman   \n",
              "2         0  david-bowie   Space Oddity   \n",
              "3         0  david-bowie  Life On Mars?   \n",
              "4         0  david-bowie    Modern Love   \n",
              "\n",
              "                                               letra  \n",
              "0  I, I will be king. And you, you will be queen....  \n",
              "1  Didn't know what time it was,. The lights were...  \n",
              "2  Ground control to Major Tom. Ground control to...  \n",
              "3  It's a god-awful small affair. To the girl wit...  \n",
              "4  I know when to go out. And when to stay in. Ge...  "
            ]
          },
          "execution_count": 73,
          "metadata": {},
          "output_type": "execute_result"
        }
      ],
      "source": [
        "l_data.head()\n"
      ]
    },
    {
      "cell_type": "code",
      "execution_count": null,
      "id": "ec143e31",
      "metadata": {
        "id": "ec143e31",
        "outputId": "88b36544-60f5-4f7e-a61c-890b8e800d16"
      },
      "outputs": [
        {
          "name": "stdout",
          "output_type": "stream",
          "text": [
            "<class 'pandas.core.frame.DataFrame'>\n",
            "RangeIndex: 1748 entries, 0 to 1747\n",
            "Data columns (total 4 columns):\n",
            " #   Column      Non-Null Count  Dtype \n",
            "---  ------      --------------  ----- \n",
            " 0   cantorId    1748 non-null   int64 \n",
            " 1   cantorNome  1748 non-null   object\n",
            " 2   musicaNome  1748 non-null   object\n",
            " 3   letra       1748 non-null   object\n",
            "dtypes: int64(1), object(3)\n",
            "memory usage: 54.8+ KB\n"
          ]
        }
      ],
      "source": [
        "l_data.info()"
      ]
    },
    {
      "cell_type": "code",
      "execution_count": null,
      "id": "1649ad63",
      "metadata": {
        "id": "1649ad63"
      },
      "outputs": [],
      "source": [
        "columns = l_data[['cantorNome', 'letra']]"
      ]
    },
    {
      "cell_type": "code",
      "execution_count": null,
      "id": "78ab08f6",
      "metadata": {
        "id": "78ab08f6",
        "outputId": "1bbf0010-d955-4c03-ff03-dee1c176324e"
      },
      "outputs": [
        {
          "data": {
            "text/html": [
              "<div>\n",
              "<style scoped>\n",
              "    .dataframe tbody tr th:only-of-type {\n",
              "        vertical-align: middle;\n",
              "    }\n",
              "\n",
              "    .dataframe tbody tr th {\n",
              "        vertical-align: top;\n",
              "    }\n",
              "\n",
              "    .dataframe thead th {\n",
              "        text-align: right;\n",
              "    }\n",
              "</style>\n",
              "<table border=\"1\" class=\"dataframe\">\n",
              "  <thead>\n",
              "    <tr style=\"text-align: right;\">\n",
              "      <th></th>\n",
              "      <th>cantorNome</th>\n",
              "      <th>letra</th>\n",
              "    </tr>\n",
              "  </thead>\n",
              "  <tbody>\n",
              "    <tr>\n",
              "      <th>0</th>\n",
              "      <td>david-bowie</td>\n",
              "      <td>I, I will be king. And you, you will be queen....</td>\n",
              "    </tr>\n",
              "    <tr>\n",
              "      <th>1</th>\n",
              "      <td>david-bowie</td>\n",
              "      <td>Didn't know what time it was,. The lights were...</td>\n",
              "    </tr>\n",
              "    <tr>\n",
              "      <th>2</th>\n",
              "      <td>david-bowie</td>\n",
              "      <td>Ground control to Major Tom. Ground control to...</td>\n",
              "    </tr>\n",
              "    <tr>\n",
              "      <th>3</th>\n",
              "      <td>david-bowie</td>\n",
              "      <td>It's a god-awful small affair. To the girl wit...</td>\n",
              "    </tr>\n",
              "    <tr>\n",
              "      <th>4</th>\n",
              "      <td>david-bowie</td>\n",
              "      <td>I know when to go out. And when to stay in. Ge...</td>\n",
              "    </tr>\n",
              "    <tr>\n",
              "      <th>...</th>\n",
              "      <td>...</td>\n",
              "      <td>...</td>\n",
              "    </tr>\n",
              "    <tr>\n",
              "      <th>1743</th>\n",
              "      <td>ac-dc</td>\n",
              "      <td>The video game says Play me. Face it on a leve...</td>\n",
              "    </tr>\n",
              "    <tr>\n",
              "      <th>1744</th>\n",
              "      <td>ac-dc</td>\n",
              "      <td>Wanna tell you a story. 'Bout a woman I know. ...</td>\n",
              "    </tr>\n",
              "    <tr>\n",
              "      <th>1745</th>\n",
              "      <td>ac-dc</td>\n",
              "      <td>You can roll me round your finger. You can rol...</td>\n",
              "    </tr>\n",
              "    <tr>\n",
              "      <th>1746</th>\n",
              "      <td>ac-dc</td>\n",
              "      <td>She was a fast machine. She kept the motor cle...</td>\n",
              "    </tr>\n",
              "    <tr>\n",
              "      <th>1747</th>\n",
              "      <td>ac-dc</td>\n",
              "      <td>Give me a big beat. Now here this, now here th...</td>\n",
              "    </tr>\n",
              "  </tbody>\n",
              "</table>\n",
              "<p>1748 rows × 2 columns</p>\n",
              "</div>"
            ],
            "text/plain": [
              "       cantorNome                                              letra\n",
              "0     david-bowie  I, I will be king. And you, you will be queen....\n",
              "1     david-bowie  Didn't know what time it was,. The lights were...\n",
              "2     david-bowie  Ground control to Major Tom. Ground control to...\n",
              "3     david-bowie  It's a god-awful small affair. To the girl wit...\n",
              "4     david-bowie  I know when to go out. And when to stay in. Ge...\n",
              "...           ...                                                ...\n",
              "1743        ac-dc  The video game says Play me. Face it on a leve...\n",
              "1744        ac-dc  Wanna tell you a story. 'Bout a woman I know. ...\n",
              "1745        ac-dc  You can roll me round your finger. You can rol...\n",
              "1746        ac-dc  She was a fast machine. She kept the motor cle...\n",
              "1747        ac-dc  Give me a big beat. Now here this, now here th...\n",
              "\n",
              "[1748 rows x 2 columns]"
            ]
          },
          "execution_count": 78,
          "metadata": {},
          "output_type": "execute_result"
        }
      ],
      "source": [
        "columns"
      ]
    },
    {
      "cell_type": "code",
      "execution_count": null,
      "id": "a890c89a",
      "metadata": {
        "id": "a890c89a",
        "outputId": "c0d74387-09be-4835-8bce-7886d5965dfc"
      },
      "outputs": [
        {
          "data": {
            "text/plain": [
              "array(['david-bowie', 'paul-mccartney', 'laura-pausini', 'evanescence',\n",
              "       'ac-dc'], dtype=object)"
            ]
          },
          "execution_count": 79,
          "metadata": {},
          "output_type": "execute_result"
        }
      ],
      "source": [
        "columns['cantorNome'].unique()"
      ]
    },
    {
      "cell_type": "code",
      "execution_count": null,
      "id": "03b8bf27",
      "metadata": {
        "id": "03b8bf27"
      },
      "outputs": [],
      "source": [
        "columns = columns[(columns.cantorNome == 'david-bowie') | (columns.cantorNome == 'paul-mccartney')]"
      ]
    },
    {
      "cell_type": "code",
      "execution_count": null,
      "id": "27edc455",
      "metadata": {
        "id": "27edc455"
      },
      "outputs": [],
      "source": [
        "lowered = columns['letra'].str.lower()"
      ]
    },
    {
      "cell_type": "code",
      "execution_count": null,
      "id": "26d780d1",
      "metadata": {
        "id": "26d780d1",
        "outputId": "4d5e36dd-eaf4-4d0e-a98d-ac048770f2a8"
      },
      "outputs": [
        {
          "name": "stderr",
          "output_type": "stream",
          "text": [
            "/var/folders/qy/dbkxn3jn7_j3y6cnv7kkm8ph0000gn/T/ipykernel_4358/2059643840.py:1: SettingWithCopyWarning: \n",
            "A value is trying to be set on a copy of a slice from a DataFrame.\n",
            "Try using .loc[row_indexer,col_indexer] = value instead\n",
            "\n",
            "See the caveats in the documentation: https://pandas.pydata.org/pandas-docs/stable/user_guide/indexing.html#returning-a-view-versus-a-copy\n",
            "  columns['lowered'] = lowered\n"
          ]
        }
      ],
      "source": [
        "columns['lowered'] = lowered"
      ]
    },
    {
      "cell_type": "code",
      "execution_count": null,
      "id": "1d66687f",
      "metadata": {
        "id": "1d66687f",
        "outputId": "4041c3c8-af06-4254-dbb0-b47312deb1f4"
      },
      "outputs": [
        {
          "name": "stderr",
          "output_type": "stream",
          "text": [
            "[nltk_data] Downloading package punkt to /Users/thedpk/nltk_data...\n",
            "[nltk_data]   Package punkt is already up-to-date!\n"
          ]
        },
        {
          "data": {
            "text/plain": [
              "True"
            ]
          },
          "execution_count": 83,
          "metadata": {},
          "output_type": "execute_result"
        }
      ],
      "source": [
        "from nltk.tokenize import word_tokenize\n",
        "nltk.download('punkt')"
      ]
    },
    {
      "cell_type": "code",
      "execution_count": null,
      "id": "907cabd0",
      "metadata": {
        "id": "907cabd0"
      },
      "outputs": [],
      "source": [
        "tokened = columns.apply(lambda row: nltk.word_tokenize(row['lowered']), axis=1)"
      ]
    },
    {
      "cell_type": "code",
      "execution_count": null,
      "id": "1f6cd0db",
      "metadata": {
        "id": "1f6cd0db",
        "outputId": "181e25c8-e3f9-4a85-ff36-56d342c87372"
      },
      "outputs": [
        {
          "name": "stderr",
          "output_type": "stream",
          "text": [
            "/var/folders/qy/dbkxn3jn7_j3y6cnv7kkm8ph0000gn/T/ipykernel_4358/3877665526.py:1: SettingWithCopyWarning: \n",
            "A value is trying to be set on a copy of a slice from a DataFrame.\n",
            "Try using .loc[row_indexer,col_indexer] = value instead\n",
            "\n",
            "See the caveats in the documentation: https://pandas.pydata.org/pandas-docs/stable/user_guide/indexing.html#returning-a-view-versus-a-copy\n",
            "  columns['tokened'] = tokened\n"
          ]
        }
      ],
      "source": [
        "columns['tokened'] = tokened"
      ]
    },
    {
      "cell_type": "code",
      "execution_count": null,
      "id": "9df61ec0",
      "metadata": {
        "id": "9df61ec0",
        "outputId": "fd5ff73d-5a15-4419-ab18-fcc118f1cf82"
      },
      "outputs": [
        {
          "name": "stdout",
          "output_type": "stream",
          "text": [
            "['i', 'me', 'my', 'myself', 'we', 'our', 'ours', 'ourselves', 'you', \"you're\", \"you've\", \"you'll\", \"you'd\", 'your', 'yours', 'yourself', 'yourselves', 'he', 'him', 'his', 'himself', 'she', \"she's\", 'her', 'hers', 'herself', 'it', \"it's\", 'its', 'itself', 'they', 'them', 'their', 'theirs', 'themselves', 'what', 'which', 'who', 'whom', 'this', 'that', \"that'll\", 'these', 'those', 'am', 'is', 'are', 'was', 'were', 'be', 'been', 'being', 'have', 'has', 'had', 'having', 'do', 'does', 'did', 'doing', 'a', 'an', 'the', 'and', 'but', 'if', 'or', 'because', 'as', 'until', 'while', 'of', 'at', 'by', 'for', 'with', 'about', 'against', 'between', 'into', 'through', 'during', 'before', 'after', 'above', 'below', 'to', 'from', 'up', 'down', 'in', 'out', 'on', 'off', 'over', 'under', 'again', 'further', 'then', 'once', 'here', 'there', 'when', 'where', 'why', 'how', 'all', 'any', 'both', 'each', 'few', 'more', 'most', 'other', 'some', 'such', 'no', 'nor', 'not', 'only', 'own', 'same', 'so', 'than', 'too', 'very', 's', 't', 'can', 'will', 'just', 'don', \"don't\", 'should', \"should've\", 'now', 'd', 'll', 'm', 'o', 're', 've', 'y', 'ain', 'aren', \"aren't\", 'couldn', \"couldn't\", 'didn', \"didn't\", 'doesn', \"doesn't\", 'hadn', \"hadn't\", 'hasn', \"hasn't\", 'haven', \"haven't\", 'isn', \"isn't\", 'ma', 'mightn', \"mightn't\", 'mustn', \"mustn't\", 'needn', \"needn't\", 'shan', \"shan't\", 'shouldn', \"shouldn't\", 'wasn', \"wasn't\", 'weren', \"weren't\", 'won', \"won't\", 'wouldn', \"wouldn't\"]\n"
          ]
        },
        {
          "name": "stderr",
          "output_type": "stream",
          "text": [
            "[nltk_data] Downloading package stopwords to\n",
            "[nltk_data]     /Users/thedpk/nltk_data...\n",
            "[nltk_data]   Package stopwords is already up-to-date!\n"
          ]
        }
      ],
      "source": [
        "nltk.download('stopwords')\n",
        "from nltk.corpus import stopwords\n",
        "print(stopwords.words('english'))"
      ]
    },
    {
      "cell_type": "code",
      "execution_count": null,
      "id": "6ec05811",
      "metadata": {
        "id": "6ec05811"
      },
      "outputs": [],
      "source": [
        "noise = stopwords.words('english')"
      ]
    },
    {
      "cell_type": "code",
      "execution_count": null,
      "id": "bf81deec",
      "metadata": {
        "id": "bf81deec"
      },
      "outputs": [],
      "source": [
        "withoutstop = columns['tokened'].apply(lambda x: [item for item in x if item not in noise])"
      ]
    },
    {
      "cell_type": "code",
      "execution_count": null,
      "id": "50a3afea",
      "metadata": {
        "id": "50a3afea"
      },
      "outputs": [],
      "source": [
        "without_stop = []\n",
        "for a in withoutstop:    \n",
        "    without_stop.append(\", \".join(a))"
      ]
    },
    {
      "cell_type": "code",
      "execution_count": null,
      "id": "202f38da",
      "metadata": {
        "id": "202f38da",
        "outputId": "9c31591c-05b5-4645-d33d-c0b62506db31"
      },
      "outputs": [
        {
          "name": "stderr",
          "output_type": "stream",
          "text": [
            "/var/folders/qy/dbkxn3jn7_j3y6cnv7kkm8ph0000gn/T/ipykernel_4358/2967229039.py:1: SettingWithCopyWarning: \n",
            "A value is trying to be set on a copy of a slice from a DataFrame.\n",
            "Try using .loc[row_indexer,col_indexer] = value instead\n",
            "\n",
            "See the caveats in the documentation: https://pandas.pydata.org/pandas-docs/stable/user_guide/indexing.html#returning-a-view-versus-a-copy\n",
            "  columns['without_stop'] = without_stop\n"
          ]
        }
      ],
      "source": [
        "columns['without_stop'] = without_stop"
      ]
    },
    {
      "cell_type": "code",
      "execution_count": null,
      "id": "ef3bb43d",
      "metadata": {
        "id": "ef3bb43d",
        "outputId": "741faba8-749b-4da1-e61f-842d18917290"
      },
      "outputs": [
        {
          "data": {
            "text/html": [
              "<div>\n",
              "<style scoped>\n",
              "    .dataframe tbody tr th:only-of-type {\n",
              "        vertical-align: middle;\n",
              "    }\n",
              "\n",
              "    .dataframe tbody tr th {\n",
              "        vertical-align: top;\n",
              "    }\n",
              "\n",
              "    .dataframe thead th {\n",
              "        text-align: right;\n",
              "    }\n",
              "</style>\n",
              "<table border=\"1\" class=\"dataframe\">\n",
              "  <thead>\n",
              "    <tr style=\"text-align: right;\">\n",
              "      <th></th>\n",
              "      <th>cantorNome</th>\n",
              "      <th>letra</th>\n",
              "      <th>lowered</th>\n",
              "      <th>tokened</th>\n",
              "      <th>without_stop</th>\n",
              "    </tr>\n",
              "  </thead>\n",
              "  <tbody>\n",
              "    <tr>\n",
              "      <th>0</th>\n",
              "      <td>david-bowie</td>\n",
              "      <td>I, I will be king. And you, you will be queen....</td>\n",
              "      <td>i, i will be king. and you, you will be queen....</td>\n",
              "      <td>[i, ,, i, will, be, king, ., and, you, ,, you,...</td>\n",
              "      <td>,, king, ., ,, queen, ., though, nothing, driv...</td>\n",
              "    </tr>\n",
              "    <tr>\n",
              "      <th>1</th>\n",
              "      <td>david-bowie</td>\n",
              "      <td>Didn't know what time it was,. The lights were...</td>\n",
              "      <td>didn't know what time it was,. the lights were...</td>\n",
              "      <td>[did, n't, know, what, time, it, was, ,, ., th...</td>\n",
              "      <td>n't, know, time, ,, ., lights, low, ., leaned,...</td>\n",
              "    </tr>\n",
              "    <tr>\n",
              "      <th>2</th>\n",
              "      <td>david-bowie</td>\n",
              "      <td>Ground control to Major Tom. Ground control to...</td>\n",
              "      <td>ground control to major tom. ground control to...</td>\n",
              "      <td>[ground, control, to, major, tom, ., ground, c...</td>\n",
              "      <td>ground, control, major, tom, ., ground, contro...</td>\n",
              "    </tr>\n",
              "    <tr>\n",
              "      <th>3</th>\n",
              "      <td>david-bowie</td>\n",
              "      <td>It's a god-awful small affair. To the girl wit...</td>\n",
              "      <td>it's a god-awful small affair. to the girl wit...</td>\n",
              "      <td>[it, 's, a, god-awful, small, affair, ., to, t...</td>\n",
              "      <td>'s, god-awful, small, affair, ., girl, mousy, ...</td>\n",
              "    </tr>\n",
              "    <tr>\n",
              "      <th>4</th>\n",
              "      <td>david-bowie</td>\n",
              "      <td>I know when to go out. And when to stay in. Ge...</td>\n",
              "      <td>i know when to go out. and when to stay in. ge...</td>\n",
              "      <td>[i, know, when, to, go, out, ., and, when, to,...</td>\n",
              "      <td>know, go, ., stay, ., get, things, done, ., ca...</td>\n",
              "    </tr>\n",
              "    <tr>\n",
              "      <th>...</th>\n",
              "      <td>...</td>\n",
              "      <td>...</td>\n",
              "      <td>...</td>\n",
              "      <td>...</td>\n",
              "      <td>...</td>\n",
              "    </tr>\n",
              "    <tr>\n",
              "      <th>942</th>\n",
              "      <td>paul-mccartney</td>\n",
              "      <td>He's just a young boy looking for a way to fin...</td>\n",
              "      <td>he's just a young boy looking for a way to fin...</td>\n",
              "      <td>[he, 's, just, a, young, boy, looking, for, a,...</td>\n",
              "      <td>'s, young, boy, looking, way, find, love, ., n...</td>\n",
              "    </tr>\n",
              "    <tr>\n",
              "      <th>943</th>\n",
              "      <td>paul-mccartney</td>\n",
              "      <td>How can I hope to reach your love. Help me to ...</td>\n",
              "      <td>how can i hope to reach your love. help me to ...</td>\n",
              "      <td>[how, can, i, hope, to, reach, your, love, ., ...</td>\n",
              "      <td>hope, reach, love, ., help, discover, ., 're, ...</td>\n",
              "    </tr>\n",
              "    <tr>\n",
              "      <th>944</th>\n",
              "      <td>paul-mccartney</td>\n",
              "      <td>I like it. Please don't take my heart away. It...</td>\n",
              "      <td>i like it. please don't take my heart away. it...</td>\n",
              "      <td>[i, like, it, ., please, do, n't, take, my, he...</td>\n",
              "      <td>like, ., please, n't, take, heart, away, ., 's...</td>\n",
              "    </tr>\n",
              "    <tr>\n",
              "      <th>945</th>\n",
              "      <td>paul-mccartney</td>\n",
              "      <td>Yvonne is the one I´ve been counting on. She s...</td>\n",
              "      <td>yvonne is the one i´ve been counting on. she s...</td>\n",
              "      <td>[yvonne, is, the, one, i´ve, been, counting, o...</td>\n",
              "      <td>yvonne, one, i´ve, counting, ., said, long, yo...</td>\n",
              "    </tr>\n",
              "    <tr>\n",
              "      <th>946</th>\n",
              "      <td>paul-mccartney</td>\n",
              "      <td>Instrumental</td>\n",
              "      <td>instrumental</td>\n",
              "      <td>[instrumental]</td>\n",
              "      <td>instrumental</td>\n",
              "    </tr>\n",
              "  </tbody>\n",
              "</table>\n",
              "<p>947 rows × 5 columns</p>\n",
              "</div>"
            ],
            "text/plain": [
              "         cantorNome                                              letra  \\\n",
              "0       david-bowie  I, I will be king. And you, you will be queen....   \n",
              "1       david-bowie  Didn't know what time it was,. The lights were...   \n",
              "2       david-bowie  Ground control to Major Tom. Ground control to...   \n",
              "3       david-bowie  It's a god-awful small affair. To the girl wit...   \n",
              "4       david-bowie  I know when to go out. And when to stay in. Ge...   \n",
              "..              ...                                                ...   \n",
              "942  paul-mccartney  He's just a young boy looking for a way to fin...   \n",
              "943  paul-mccartney  How can I hope to reach your love. Help me to ...   \n",
              "944  paul-mccartney  I like it. Please don't take my heart away. It...   \n",
              "945  paul-mccartney  Yvonne is the one I´ve been counting on. She s...   \n",
              "946  paul-mccartney                                       Instrumental   \n",
              "\n",
              "                                               lowered  \\\n",
              "0    i, i will be king. and you, you will be queen....   \n",
              "1    didn't know what time it was,. the lights were...   \n",
              "2    ground control to major tom. ground control to...   \n",
              "3    it's a god-awful small affair. to the girl wit...   \n",
              "4    i know when to go out. and when to stay in. ge...   \n",
              "..                                                 ...   \n",
              "942  he's just a young boy looking for a way to fin...   \n",
              "943  how can i hope to reach your love. help me to ...   \n",
              "944  i like it. please don't take my heart away. it...   \n",
              "945  yvonne is the one i´ve been counting on. she s...   \n",
              "946                                       instrumental   \n",
              "\n",
              "                                               tokened  \\\n",
              "0    [i, ,, i, will, be, king, ., and, you, ,, you,...   \n",
              "1    [did, n't, know, what, time, it, was, ,, ., th...   \n",
              "2    [ground, control, to, major, tom, ., ground, c...   \n",
              "3    [it, 's, a, god-awful, small, affair, ., to, t...   \n",
              "4    [i, know, when, to, go, out, ., and, when, to,...   \n",
              "..                                                 ...   \n",
              "942  [he, 's, just, a, young, boy, looking, for, a,...   \n",
              "943  [how, can, i, hope, to, reach, your, love, ., ...   \n",
              "944  [i, like, it, ., please, do, n't, take, my, he...   \n",
              "945  [yvonne, is, the, one, i´ve, been, counting, o...   \n",
              "946                                     [instrumental]   \n",
              "\n",
              "                                          without_stop  \n",
              "0    ,, king, ., ,, queen, ., though, nothing, driv...  \n",
              "1    n't, know, time, ,, ., lights, low, ., leaned,...  \n",
              "2    ground, control, major, tom, ., ground, contro...  \n",
              "3    's, god-awful, small, affair, ., girl, mousy, ...  \n",
              "4    know, go, ., stay, ., get, things, done, ., ca...  \n",
              "..                                                 ...  \n",
              "942  's, young, boy, looking, way, find, love, ., n...  \n",
              "943  hope, reach, love, ., help, discover, ., 're, ...  \n",
              "944  like, ., please, n't, take, heart, away, ., 's...  \n",
              "945  yvonne, one, i´ve, counting, ., said, long, yo...  \n",
              "946                                       instrumental  \n",
              "\n",
              "[947 rows x 5 columns]"
            ]
          },
          "execution_count": 91,
          "metadata": {},
          "output_type": "execute_result"
        }
      ],
      "source": [
        "columns"
      ]
    },
    {
      "cell_type": "code",
      "execution_count": null,
      "id": "560aff99",
      "metadata": {
        "id": "560aff99",
        "outputId": "5843c0fd-21c4-479b-a2f4-61d4ee8b6c02"
      },
      "outputs": [
        {
          "name": "stderr",
          "output_type": "stream",
          "text": [
            "[nltk_data] Downloading package wordnet to /Users/thedpk/nltk_data...\n",
            "[nltk_data]   Package wordnet is already up-to-date!\n"
          ]
        }
      ],
      "source": [
        "from nltk.stem import WordNetLemmatizer \n",
        "nltk.download('wordnet')\n",
        "lemmatizer = WordNetLemmatizer()"
      ]
    },
    {
      "cell_type": "code",
      "execution_count": null,
      "id": "0be3ad0f",
      "metadata": {
        "id": "0be3ad0f"
      },
      "outputs": [],
      "source": [
        "lemmatized = columns['without_stop'].apply(lambda x: [lemmatizer.lemmatize(x)])"
      ]
    },
    {
      "cell_type": "code",
      "execution_count": null,
      "id": "5be7aa10",
      "metadata": {
        "id": "5be7aa10"
      },
      "outputs": [],
      "source": [
        "lemma = []\n",
        "for a in lemmatized:    \n",
        "    lemma.append(\", \".join(a))"
      ]
    },
    {
      "cell_type": "code",
      "execution_count": null,
      "id": "56ee02b8",
      "metadata": {
        "id": "56ee02b8",
        "outputId": "cc03ccd0-4c30-47b3-f4d0-e9681357eb54"
      },
      "outputs": [
        {
          "name": "stderr",
          "output_type": "stream",
          "text": [
            "/var/folders/qy/dbkxn3jn7_j3y6cnv7kkm8ph0000gn/T/ipykernel_4358/1724481396.py:1: SettingWithCopyWarning: \n",
            "A value is trying to be set on a copy of a slice from a DataFrame.\n",
            "Try using .loc[row_indexer,col_indexer] = value instead\n",
            "\n",
            "See the caveats in the documentation: https://pandas.pydata.org/pandas-docs/stable/user_guide/indexing.html#returning-a-view-versus-a-copy\n",
            "  columns['lemmatized'] = lemma\n"
          ]
        }
      ],
      "source": [
        "columns['lemmatized'] = lemma"
      ]
    },
    {
      "cell_type": "code",
      "execution_count": null,
      "id": "a16c6263",
      "metadata": {
        "id": "a16c6263",
        "outputId": "9e485a6c-6542-4db9-a7fc-4fb2ba177447"
      },
      "outputs": [
        {
          "data": {
            "text/html": [
              "<div>\n",
              "<style scoped>\n",
              "    .dataframe tbody tr th:only-of-type {\n",
              "        vertical-align: middle;\n",
              "    }\n",
              "\n",
              "    .dataframe tbody tr th {\n",
              "        vertical-align: top;\n",
              "    }\n",
              "\n",
              "    .dataframe thead th {\n",
              "        text-align: right;\n",
              "    }\n",
              "</style>\n",
              "<table border=\"1\" class=\"dataframe\">\n",
              "  <thead>\n",
              "    <tr style=\"text-align: right;\">\n",
              "      <th></th>\n",
              "      <th>cantorNome</th>\n",
              "      <th>letra</th>\n",
              "      <th>lowered</th>\n",
              "      <th>tokened</th>\n",
              "      <th>without_stop</th>\n",
              "      <th>lemmatized</th>\n",
              "    </tr>\n",
              "  </thead>\n",
              "  <tbody>\n",
              "    <tr>\n",
              "      <th>0</th>\n",
              "      <td>david-bowie</td>\n",
              "      <td>I, I will be king. And you, you will be queen....</td>\n",
              "      <td>i, i will be king. and you, you will be queen....</td>\n",
              "      <td>[i, ,, i, will, be, king, ., and, you, ,, you,...</td>\n",
              "      <td>,, king, ., ,, queen, ., though, nothing, driv...</td>\n",
              "      <td>,, king, ., ,, queen, ., though, nothing, driv...</td>\n",
              "    </tr>\n",
              "    <tr>\n",
              "      <th>1</th>\n",
              "      <td>david-bowie</td>\n",
              "      <td>Didn't know what time it was,. The lights were...</td>\n",
              "      <td>didn't know what time it was,. the lights were...</td>\n",
              "      <td>[did, n't, know, what, time, it, was, ,, ., th...</td>\n",
              "      <td>n't, know, time, ,, ., lights, low, ., leaned,...</td>\n",
              "      <td>n't, know, time, ,, ., lights, low, ., leaned,...</td>\n",
              "    </tr>\n",
              "    <tr>\n",
              "      <th>2</th>\n",
              "      <td>david-bowie</td>\n",
              "      <td>Ground control to Major Tom. Ground control to...</td>\n",
              "      <td>ground control to major tom. ground control to...</td>\n",
              "      <td>[ground, control, to, major, tom, ., ground, c...</td>\n",
              "      <td>ground, control, major, tom, ., ground, contro...</td>\n",
              "      <td>ground, control, major, tom, ., ground, contro...</td>\n",
              "    </tr>\n",
              "    <tr>\n",
              "      <th>3</th>\n",
              "      <td>david-bowie</td>\n",
              "      <td>It's a god-awful small affair. To the girl wit...</td>\n",
              "      <td>it's a god-awful small affair. to the girl wit...</td>\n",
              "      <td>[it, 's, a, god-awful, small, affair, ., to, t...</td>\n",
              "      <td>'s, god-awful, small, affair, ., girl, mousy, ...</td>\n",
              "      <td>'s, god-awful, small, affair, ., girl, mousy, ...</td>\n",
              "    </tr>\n",
              "    <tr>\n",
              "      <th>4</th>\n",
              "      <td>david-bowie</td>\n",
              "      <td>I know when to go out. And when to stay in. Ge...</td>\n",
              "      <td>i know when to go out. and when to stay in. ge...</td>\n",
              "      <td>[i, know, when, to, go, out, ., and, when, to,...</td>\n",
              "      <td>know, go, ., stay, ., get, things, done, ., ca...</td>\n",
              "      <td>know, go, ., stay, ., get, things, done, ., ca...</td>\n",
              "    </tr>\n",
              "    <tr>\n",
              "      <th>...</th>\n",
              "      <td>...</td>\n",
              "      <td>...</td>\n",
              "      <td>...</td>\n",
              "      <td>...</td>\n",
              "      <td>...</td>\n",
              "      <td>...</td>\n",
              "    </tr>\n",
              "    <tr>\n",
              "      <th>942</th>\n",
              "      <td>paul-mccartney</td>\n",
              "      <td>He's just a young boy looking for a way to fin...</td>\n",
              "      <td>he's just a young boy looking for a way to fin...</td>\n",
              "      <td>[he, 's, just, a, young, boy, looking, for, a,...</td>\n",
              "      <td>'s, young, boy, looking, way, find, love, ., n...</td>\n",
              "      <td>'s, young, boy, looking, way, find, love, ., n...</td>\n",
              "    </tr>\n",
              "    <tr>\n",
              "      <th>943</th>\n",
              "      <td>paul-mccartney</td>\n",
              "      <td>How can I hope to reach your love. Help me to ...</td>\n",
              "      <td>how can i hope to reach your love. help me to ...</td>\n",
              "      <td>[how, can, i, hope, to, reach, your, love, ., ...</td>\n",
              "      <td>hope, reach, love, ., help, discover, ., 're, ...</td>\n",
              "      <td>hope, reach, love, ., help, discover, ., 're, ...</td>\n",
              "    </tr>\n",
              "    <tr>\n",
              "      <th>944</th>\n",
              "      <td>paul-mccartney</td>\n",
              "      <td>I like it. Please don't take my heart away. It...</td>\n",
              "      <td>i like it. please don't take my heart away. it...</td>\n",
              "      <td>[i, like, it, ., please, do, n't, take, my, he...</td>\n",
              "      <td>like, ., please, n't, take, heart, away, ., 's...</td>\n",
              "      <td>like, ., please, n't, take, heart, away, ., 's...</td>\n",
              "    </tr>\n",
              "    <tr>\n",
              "      <th>945</th>\n",
              "      <td>paul-mccartney</td>\n",
              "      <td>Yvonne is the one I´ve been counting on. She s...</td>\n",
              "      <td>yvonne is the one i´ve been counting on. she s...</td>\n",
              "      <td>[yvonne, is, the, one, i´ve, been, counting, o...</td>\n",
              "      <td>yvonne, one, i´ve, counting, ., said, long, yo...</td>\n",
              "      <td>yvonne, one, i´ve, counting, ., said, long, yo...</td>\n",
              "    </tr>\n",
              "    <tr>\n",
              "      <th>946</th>\n",
              "      <td>paul-mccartney</td>\n",
              "      <td>Instrumental</td>\n",
              "      <td>instrumental</td>\n",
              "      <td>[instrumental]</td>\n",
              "      <td>instrumental</td>\n",
              "      <td>instrumental</td>\n",
              "    </tr>\n",
              "  </tbody>\n",
              "</table>\n",
              "<p>947 rows × 6 columns</p>\n",
              "</div>"
            ],
            "text/plain": [
              "         cantorNome                                              letra  \\\n",
              "0       david-bowie  I, I will be king. And you, you will be queen....   \n",
              "1       david-bowie  Didn't know what time it was,. The lights were...   \n",
              "2       david-bowie  Ground control to Major Tom. Ground control to...   \n",
              "3       david-bowie  It's a god-awful small affair. To the girl wit...   \n",
              "4       david-bowie  I know when to go out. And when to stay in. Ge...   \n",
              "..              ...                                                ...   \n",
              "942  paul-mccartney  He's just a young boy looking for a way to fin...   \n",
              "943  paul-mccartney  How can I hope to reach your love. Help me to ...   \n",
              "944  paul-mccartney  I like it. Please don't take my heart away. It...   \n",
              "945  paul-mccartney  Yvonne is the one I´ve been counting on. She s...   \n",
              "946  paul-mccartney                                       Instrumental   \n",
              "\n",
              "                                               lowered  \\\n",
              "0    i, i will be king. and you, you will be queen....   \n",
              "1    didn't know what time it was,. the lights were...   \n",
              "2    ground control to major tom. ground control to...   \n",
              "3    it's a god-awful small affair. to the girl wit...   \n",
              "4    i know when to go out. and when to stay in. ge...   \n",
              "..                                                 ...   \n",
              "942  he's just a young boy looking for a way to fin...   \n",
              "943  how can i hope to reach your love. help me to ...   \n",
              "944  i like it. please don't take my heart away. it...   \n",
              "945  yvonne is the one i´ve been counting on. she s...   \n",
              "946                                       instrumental   \n",
              "\n",
              "                                               tokened  \\\n",
              "0    [i, ,, i, will, be, king, ., and, you, ,, you,...   \n",
              "1    [did, n't, know, what, time, it, was, ,, ., th...   \n",
              "2    [ground, control, to, major, tom, ., ground, c...   \n",
              "3    [it, 's, a, god-awful, small, affair, ., to, t...   \n",
              "4    [i, know, when, to, go, out, ., and, when, to,...   \n",
              "..                                                 ...   \n",
              "942  [he, 's, just, a, young, boy, looking, for, a,...   \n",
              "943  [how, can, i, hope, to, reach, your, love, ., ...   \n",
              "944  [i, like, it, ., please, do, n't, take, my, he...   \n",
              "945  [yvonne, is, the, one, i´ve, been, counting, o...   \n",
              "946                                     [instrumental]   \n",
              "\n",
              "                                          without_stop  \\\n",
              "0    ,, king, ., ,, queen, ., though, nothing, driv...   \n",
              "1    n't, know, time, ,, ., lights, low, ., leaned,...   \n",
              "2    ground, control, major, tom, ., ground, contro...   \n",
              "3    's, god-awful, small, affair, ., girl, mousy, ...   \n",
              "4    know, go, ., stay, ., get, things, done, ., ca...   \n",
              "..                                                 ...   \n",
              "942  's, young, boy, looking, way, find, love, ., n...   \n",
              "943  hope, reach, love, ., help, discover, ., 're, ...   \n",
              "944  like, ., please, n't, take, heart, away, ., 's...   \n",
              "945  yvonne, one, i´ve, counting, ., said, long, yo...   \n",
              "946                                       instrumental   \n",
              "\n",
              "                                            lemmatized  \n",
              "0    ,, king, ., ,, queen, ., though, nothing, driv...  \n",
              "1    n't, know, time, ,, ., lights, low, ., leaned,...  \n",
              "2    ground, control, major, tom, ., ground, contro...  \n",
              "3    's, god-awful, small, affair, ., girl, mousy, ...  \n",
              "4    know, go, ., stay, ., get, things, done, ., ca...  \n",
              "..                                                 ...  \n",
              "942  's, young, boy, looking, way, find, love, ., n...  \n",
              "943  hope, reach, love, ., help, discover, ., 're, ...  \n",
              "944  like, ., please, n't, take, heart, away, ., 's...  \n",
              "945  yvonne, one, i´ve, counting, ., said, long, yo...  \n",
              "946                                       instrumental  \n",
              "\n",
              "[947 rows x 6 columns]"
            ]
          },
          "execution_count": 96,
          "metadata": {},
          "output_type": "execute_result"
        }
      ],
      "source": [
        "columns"
      ]
    },
    {
      "cell_type": "code",
      "execution_count": null,
      "id": "b182f28b",
      "metadata": {
        "id": "b182f28b"
      },
      "outputs": [],
      "source": [
        "from sklearn.model_selection import train_test_split \n",
        "x_train, x_test, y_train, y_test = train_test_split(columns.lemmatized, columns.cantorNome, train_size = 0.7)"
      ]
    },
    {
      "cell_type": "code",
      "execution_count": null,
      "id": "6be7e980",
      "metadata": {
        "id": "6be7e980",
        "outputId": "8fb573ed-1635-4362-aa92-12f8ada7b8e3"
      },
      "outputs": [
        {
          "data": {
            "text/plain": [
              "david-bowie       483\n",
              "paul-mccartney    464\n",
              "Name: cantorNome, dtype: int64"
            ]
          },
          "execution_count": 99,
          "metadata": {},
          "output_type": "execute_result"
        }
      ],
      "source": [
        "columns.cantorNome.value_counts()"
      ]
    },
    {
      "cell_type": "code",
      "execution_count": null,
      "id": "dc1b36cf",
      "metadata": {
        "id": "dc1b36cf"
      },
      "outputs": [],
      "source": [
        "from sklearn.feature_extraction.text import CountVectorizer"
      ]
    },
    {
      "cell_type": "code",
      "execution_count": null,
      "id": "f2c474e0",
      "metadata": {
        "id": "f2c474e0"
      },
      "outputs": [],
      "source": [
        "vectorizer = CountVectorizer(ngram_range=(1, 3))\n",
        "vectorized_x_train = vectorizer.fit_transform(x_train)"
      ]
    },
    {
      "cell_type": "code",
      "execution_count": null,
      "id": "6f5fded2",
      "metadata": {
        "id": "6f5fded2"
      },
      "outputs": [],
      "source": [
        "#импортируем байесовский классификатор\n",
        "from sklearn.naive_bayes import MultinomialNB "
      ]
    },
    {
      "cell_type": "code",
      "execution_count": null,
      "id": "ec076147",
      "metadata": {
        "id": "ec076147",
        "outputId": "2fd0cae6-cd03-4829-8948-85dd0adbf384"
      },
      "outputs": [
        {
          "data": {
            "text/html": [
              "<style>#sk-container-id-2 {color: black;background-color: white;}#sk-container-id-2 pre{padding: 0;}#sk-container-id-2 div.sk-toggleable {background-color: white;}#sk-container-id-2 label.sk-toggleable__label {cursor: pointer;display: block;width: 100%;margin-bottom: 0;padding: 0.3em;box-sizing: border-box;text-align: center;}#sk-container-id-2 label.sk-toggleable__label-arrow:before {content: \"▸\";float: left;margin-right: 0.25em;color: #696969;}#sk-container-id-2 label.sk-toggleable__label-arrow:hover:before {color: black;}#sk-container-id-2 div.sk-estimator:hover label.sk-toggleable__label-arrow:before {color: black;}#sk-container-id-2 div.sk-toggleable__content {max-height: 0;max-width: 0;overflow: hidden;text-align: left;background-color: #f0f8ff;}#sk-container-id-2 div.sk-toggleable__content pre {margin: 0.2em;color: black;border-radius: 0.25em;background-color: #f0f8ff;}#sk-container-id-2 input.sk-toggleable__control:checked~div.sk-toggleable__content {max-height: 200px;max-width: 100%;overflow: auto;}#sk-container-id-2 input.sk-toggleable__control:checked~label.sk-toggleable__label-arrow:before {content: \"▾\";}#sk-container-id-2 div.sk-estimator input.sk-toggleable__control:checked~label.sk-toggleable__label {background-color: #d4ebff;}#sk-container-id-2 div.sk-label input.sk-toggleable__control:checked~label.sk-toggleable__label {background-color: #d4ebff;}#sk-container-id-2 input.sk-hidden--visually {border: 0;clip: rect(1px 1px 1px 1px);clip: rect(1px, 1px, 1px, 1px);height: 1px;margin: -1px;overflow: hidden;padding: 0;position: absolute;width: 1px;}#sk-container-id-2 div.sk-estimator {font-family: monospace;background-color: #f0f8ff;border: 1px dotted black;border-radius: 0.25em;box-sizing: border-box;margin-bottom: 0.5em;}#sk-container-id-2 div.sk-estimator:hover {background-color: #d4ebff;}#sk-container-id-2 div.sk-parallel-item::after {content: \"\";width: 100%;border-bottom: 1px solid gray;flex-grow: 1;}#sk-container-id-2 div.sk-label:hover label.sk-toggleable__label {background-color: #d4ebff;}#sk-container-id-2 div.sk-serial::before {content: \"\";position: absolute;border-left: 1px solid gray;box-sizing: border-box;top: 0;bottom: 0;left: 50%;z-index: 0;}#sk-container-id-2 div.sk-serial {display: flex;flex-direction: column;align-items: center;background-color: white;padding-right: 0.2em;padding-left: 0.2em;position: relative;}#sk-container-id-2 div.sk-item {position: relative;z-index: 1;}#sk-container-id-2 div.sk-parallel {display: flex;align-items: stretch;justify-content: center;background-color: white;position: relative;}#sk-container-id-2 div.sk-item::before, #sk-container-id-2 div.sk-parallel-item::before {content: \"\";position: absolute;border-left: 1px solid gray;box-sizing: border-box;top: 0;bottom: 0;left: 50%;z-index: -1;}#sk-container-id-2 div.sk-parallel-item {display: flex;flex-direction: column;z-index: 1;position: relative;background-color: white;}#sk-container-id-2 div.sk-parallel-item:first-child::after {align-self: flex-end;width: 50%;}#sk-container-id-2 div.sk-parallel-item:last-child::after {align-self: flex-start;width: 50%;}#sk-container-id-2 div.sk-parallel-item:only-child::after {width: 0;}#sk-container-id-2 div.sk-dashed-wrapped {border: 1px dashed gray;margin: 0 0.4em 0.5em 0.4em;box-sizing: border-box;padding-bottom: 0.4em;background-color: white;}#sk-container-id-2 div.sk-label label {font-family: monospace;font-weight: bold;display: inline-block;line-height: 1.2em;}#sk-container-id-2 div.sk-label-container {text-align: center;}#sk-container-id-2 div.sk-container {/* jupyter's `normalize.less` sets `[hidden] { display: none; }` but bootstrap.min.css set `[hidden] { display: none !important; }` so we also need the `!important` here to be able to override the default hidden behavior on the sphinx rendered scikit-learn.org. See: https://github.com/scikit-learn/scikit-learn/issues/21755 */display: inline-block !important;position: relative;}#sk-container-id-2 div.sk-text-repr-fallback {display: none;}</style><div id=\"sk-container-id-2\" class=\"sk-top-container\"><div class=\"sk-text-repr-fallback\"><pre>MultinomialNB()</pre><b>In a Jupyter environment, please rerun this cell to show the HTML representation or trust the notebook. <br />On GitHub, the HTML representation is unable to render, please try loading this page with nbviewer.org.</b></div><div class=\"sk-container\" hidden><div class=\"sk-item\"><div class=\"sk-estimator sk-toggleable\"><input class=\"sk-toggleable__control sk-hidden--visually\" id=\"sk-estimator-id-2\" type=\"checkbox\" checked><label for=\"sk-estimator-id-2\" class=\"sk-toggleable__label sk-toggleable__label-arrow\">MultinomialNB</label><div class=\"sk-toggleable__content\"><pre>MultinomialNB()</pre></div></div></div></div></div>"
            ],
            "text/plain": [
              "MultinomialNB()"
            ]
          },
          "execution_count": 103,
          "metadata": {},
          "output_type": "execute_result"
        }
      ],
      "source": [
        "clf = MultinomialNB()\n",
        "clf.fit(vectorized_x_train, y_train)"
      ]
    },
    {
      "cell_type": "code",
      "execution_count": null,
      "id": "44eb42f1",
      "metadata": {
        "id": "44eb42f1"
      },
      "outputs": [],
      "source": [
        "# тестовую выборку просто векторизировали\n",
        "vectorized_x_test = vectorizer.transform(x_test)"
      ]
    },
    {
      "cell_type": "code",
      "execution_count": null,
      "id": "42cb49f5",
      "metadata": {
        "id": "42cb49f5",
        "outputId": "abdfc382-83df-4154-8b53-4c13775f5b5c"
      },
      "outputs": [
        {
          "data": {
            "text/plain": [
              "array(['david-bowie', 'david-bowie', 'paul-mccartney', 'david-bowie',\n",
              "       'paul-mccartney', 'paul-mccartney', 'paul-mccartney',\n",
              "       'paul-mccartney', 'paul-mccartney', 'paul-mccartney',\n",
              "       'david-bowie', 'paul-mccartney', 'david-bowie', 'david-bowie',\n",
              "       'david-bowie', 'david-bowie', 'david-bowie', 'paul-mccartney',\n",
              "       'paul-mccartney', 'david-bowie', 'paul-mccartney',\n",
              "       'paul-mccartney', 'david-bowie', 'paul-mccartney', 'david-bowie',\n",
              "       'david-bowie', 'david-bowie', 'david-bowie', 'paul-mccartney',\n",
              "       'paul-mccartney', 'david-bowie', 'david-bowie', 'paul-mccartney',\n",
              "       'paul-mccartney', 'david-bowie', 'paul-mccartney', 'david-bowie',\n",
              "       'paul-mccartney', 'david-bowie', 'paul-mccartney',\n",
              "       'paul-mccartney', 'paul-mccartney', 'david-bowie',\n",
              "       'paul-mccartney', 'david-bowie', 'paul-mccartney', 'david-bowie',\n",
              "       'paul-mccartney', 'paul-mccartney', 'david-bowie',\n",
              "       'paul-mccartney', 'paul-mccartney', 'paul-mccartney',\n",
              "       'paul-mccartney', 'david-bowie', 'david-bowie', 'david-bowie',\n",
              "       'paul-mccartney', 'paul-mccartney', 'david-bowie', 'david-bowie',\n",
              "       'david-bowie', 'david-bowie', 'david-bowie', 'david-bowie',\n",
              "       'paul-mccartney', 'david-bowie', 'paul-mccartney',\n",
              "       'paul-mccartney', 'david-bowie', 'david-bowie', 'david-bowie',\n",
              "       'paul-mccartney', 'paul-mccartney', 'paul-mccartney',\n",
              "       'paul-mccartney', 'paul-mccartney', 'paul-mccartney',\n",
              "       'david-bowie', 'david-bowie', 'paul-mccartney', 'paul-mccartney',\n",
              "       'david-bowie', 'david-bowie', 'david-bowie', 'david-bowie',\n",
              "       'david-bowie', 'paul-mccartney', 'david-bowie', 'paul-mccartney',\n",
              "       'paul-mccartney', 'david-bowie', 'paul-mccartney', 'david-bowie',\n",
              "       'paul-mccartney', 'paul-mccartney', 'david-bowie', 'david-bowie',\n",
              "       'david-bowie', 'david-bowie', 'paul-mccartney', 'paul-mccartney',\n",
              "       'paul-mccartney', 'david-bowie', 'paul-mccartney',\n",
              "       'paul-mccartney', 'paul-mccartney', 'david-bowie', 'david-bowie',\n",
              "       'paul-mccartney', 'paul-mccartney', 'david-bowie', 'david-bowie',\n",
              "       'david-bowie', 'paul-mccartney', 'david-bowie', 'david-bowie',\n",
              "       'paul-mccartney', 'david-bowie', 'paul-mccartney',\n",
              "       'paul-mccartney', 'paul-mccartney', 'david-bowie',\n",
              "       'paul-mccartney', 'paul-mccartney', 'paul-mccartney',\n",
              "       'david-bowie', 'paul-mccartney', 'david-bowie', 'david-bowie',\n",
              "       'paul-mccartney', 'david-bowie', 'david-bowie', 'david-bowie',\n",
              "       'david-bowie', 'paul-mccartney', 'david-bowie', 'paul-mccartney',\n",
              "       'david-bowie', 'paul-mccartney', 'paul-mccartney',\n",
              "       'paul-mccartney', 'paul-mccartney', 'paul-mccartney',\n",
              "       'david-bowie', 'david-bowie', 'paul-mccartney', 'paul-mccartney',\n",
              "       'david-bowie', 'paul-mccartney', 'paul-mccartney',\n",
              "       'paul-mccartney', 'david-bowie', 'paul-mccartney', 'david-bowie',\n",
              "       'paul-mccartney', 'david-bowie', 'david-bowie', 'paul-mccartney',\n",
              "       'david-bowie', 'paul-mccartney', 'paul-mccartney', 'david-bowie',\n",
              "       'david-bowie', 'david-bowie', 'paul-mccartney', 'paul-mccartney',\n",
              "       'david-bowie', 'david-bowie', 'paul-mccartney', 'david-bowie',\n",
              "       'paul-mccartney', 'paul-mccartney', 'david-bowie',\n",
              "       'paul-mccartney', 'david-bowie', 'paul-mccartney',\n",
              "       'paul-mccartney', 'david-bowie', 'paul-mccartney', 'david-bowie',\n",
              "       'paul-mccartney', 'david-bowie', 'paul-mccartney', 'david-bowie',\n",
              "       'david-bowie', 'david-bowie', 'david-bowie', 'david-bowie',\n",
              "       'paul-mccartney', 'david-bowie', 'paul-mccartney', 'david-bowie',\n",
              "       'david-bowie', 'paul-mccartney', 'david-bowie', 'david-bowie',\n",
              "       'david-bowie', 'paul-mccartney', 'david-bowie', 'david-bowie',\n",
              "       'paul-mccartney', 'david-bowie', 'paul-mccartney', 'david-bowie',\n",
              "       'paul-mccartney', 'david-bowie', 'david-bowie', 'david-bowie',\n",
              "       'paul-mccartney', 'paul-mccartney', 'david-bowie',\n",
              "       'paul-mccartney', 'paul-mccartney', 'paul-mccartney',\n",
              "       'david-bowie', 'david-bowie', 'david-bowie', 'david-bowie',\n",
              "       'david-bowie', 'david-bowie', 'paul-mccartney', 'paul-mccartney',\n",
              "       'david-bowie', 'paul-mccartney', 'paul-mccartney', 'david-bowie',\n",
              "       'paul-mccartney', 'david-bowie', 'david-bowie', 'david-bowie',\n",
              "       'david-bowie', 'paul-mccartney', 'paul-mccartney',\n",
              "       'paul-mccartney', 'david-bowie', 'david-bowie', 'david-bowie',\n",
              "       'paul-mccartney', 'david-bowie', 'paul-mccartney', 'david-bowie',\n",
              "       'david-bowie', 'david-bowie', 'paul-mccartney', 'david-bowie',\n",
              "       'paul-mccartney', 'david-bowie', 'paul-mccartney',\n",
              "       'paul-mccartney', 'david-bowie', 'paul-mccartney', 'david-bowie',\n",
              "       'paul-mccartney', 'paul-mccartney', 'paul-mccartney',\n",
              "       'david-bowie', 'paul-mccartney', 'david-bowie', 'paul-mccartney',\n",
              "       'david-bowie', 'paul-mccartney', 'david-bowie', 'david-bowie',\n",
              "       'paul-mccartney', 'david-bowie', 'paul-mccartney',\n",
              "       'paul-mccartney', 'david-bowie', 'paul-mccartney',\n",
              "       'paul-mccartney', 'david-bowie', 'paul-mccartney',\n",
              "       'paul-mccartney', 'paul-mccartney', 'paul-mccartney',\n",
              "       'paul-mccartney', 'david-bowie', 'david-bowie', 'paul-mccartney',\n",
              "       'david-bowie', 'paul-mccartney', 'paul-mccartney',\n",
              "       'paul-mccartney', 'david-bowie'], dtype='<U14')"
            ]
          },
          "execution_count": 105,
          "metadata": {},
          "output_type": "execute_result"
        }
      ],
      "source": [
        "clf.predict(vectorized_x_test)"
      ]
    },
    {
      "cell_type": "code",
      "execution_count": null,
      "id": "6a713b97",
      "metadata": {
        "id": "6a713b97",
        "outputId": "16b0b506-dd23-46be-ea51-757f8d931c95"
      },
      "outputs": [
        {
          "name": "stdout",
          "output_type": "stream",
          "text": [
            "                precision    recall  f1-score   support\n",
            "\n",
            "   david-bowie       0.78      0.71      0.74       157\n",
            "paul-mccartney       0.68      0.75      0.71       128\n",
            "\n",
            "      accuracy                           0.73       285\n",
            "     macro avg       0.73      0.73      0.73       285\n",
            "  weighted avg       0.73      0.73      0.73       285\n",
            "\n"
          ]
        }
      ],
      "source": [
        "from sklearn.metrics import * \n",
        "pred = clf.predict(vectorized_x_test)\n",
        "print(classification_report(y_test, pred))"
      ]
    },
    {
      "cell_type": "code",
      "execution_count": null,
      "id": "4271b75e",
      "metadata": {
        "id": "4271b75e"
      },
      "outputs": [],
      "source": []
    }
  ],
  "metadata": {
    "kernelspec": {
      "display_name": "Python 3 (ipykernel)",
      "language": "python",
      "name": "python3"
    },
    "language_info": {
      "codemirror_mode": {
        "name": "ipython",
        "version": 3
      },
      "file_extension": ".py",
      "mimetype": "text/x-python",
      "name": "python",
      "nbconvert_exporter": "python",
      "pygments_lexer": "ipython3",
      "version": "3.10.8"
    },
    "colab": {
      "provenance": []
    }
  },
  "nbformat": 4,
  "nbformat_minor": 5
}